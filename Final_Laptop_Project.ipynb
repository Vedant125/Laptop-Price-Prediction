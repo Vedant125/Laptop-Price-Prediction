{
 "cells": [
  {
   "cell_type": "code",
   "execution_count": 1,
   "id": "1e5288c4-b67a-4b2d-a7cc-9df97e4d5b85",
   "metadata": {},
   "outputs": [],
   "source": [
    "import numpy as np\n",
    "import pandas as pd\n",
    "import matplotlib.pyplot as plt\n",
    "import seaborn as sns"
   ]
  },
  {
   "cell_type": "code",
   "execution_count": 2,
   "id": "22bb69fd-39cc-4963-9bdc-aee5505083de",
   "metadata": {},
   "outputs": [
    {
     "data": {
      "text/html": [
       "<div>\n",
       "<style scoped>\n",
       "    .dataframe tbody tr th:only-of-type {\n",
       "        vertical-align: middle;\n",
       "    }\n",
       "\n",
       "    .dataframe tbody tr th {\n",
       "        vertical-align: top;\n",
       "    }\n",
       "\n",
       "    .dataframe thead th {\n",
       "        text-align: right;\n",
       "    }\n",
       "</style>\n",
       "<table border=\"1\" class=\"dataframe\">\n",
       "  <thead>\n",
       "    <tr style=\"text-align: right;\">\n",
       "      <th></th>\n",
       "      <th>Unnamed: 0</th>\n",
       "      <th>Company</th>\n",
       "      <th>TypeName</th>\n",
       "      <th>Inches</th>\n",
       "      <th>ScreenResolution</th>\n",
       "      <th>Cpu</th>\n",
       "      <th>Ram</th>\n",
       "      <th>Memory</th>\n",
       "      <th>Gpu</th>\n",
       "      <th>OpSys</th>\n",
       "      <th>Weight</th>\n",
       "      <th>Price</th>\n",
       "    </tr>\n",
       "  </thead>\n",
       "  <tbody>\n",
       "    <tr>\n",
       "      <th>0</th>\n",
       "      <td>0</td>\n",
       "      <td>Apple</td>\n",
       "      <td>Ultrabook</td>\n",
       "      <td>13.3</td>\n",
       "      <td>IPS Panel Retina Display 2560x1600</td>\n",
       "      <td>Intel Core i5 2.3GHz</td>\n",
       "      <td>8GB</td>\n",
       "      <td>128GB SSD</td>\n",
       "      <td>Intel Iris Plus Graphics 640</td>\n",
       "      <td>macOS</td>\n",
       "      <td>1.37kg</td>\n",
       "      <td>71378.6832</td>\n",
       "    </tr>\n",
       "    <tr>\n",
       "      <th>1</th>\n",
       "      <td>1</td>\n",
       "      <td>Apple</td>\n",
       "      <td>Ultrabook</td>\n",
       "      <td>13.3</td>\n",
       "      <td>1440x900</td>\n",
       "      <td>Intel Core i5 1.8GHz</td>\n",
       "      <td>8GB</td>\n",
       "      <td>128GB Flash Storage</td>\n",
       "      <td>Intel HD Graphics 6000</td>\n",
       "      <td>macOS</td>\n",
       "      <td>1.34kg</td>\n",
       "      <td>47895.5232</td>\n",
       "    </tr>\n",
       "    <tr>\n",
       "      <th>2</th>\n",
       "      <td>2</td>\n",
       "      <td>HP</td>\n",
       "      <td>Notebook</td>\n",
       "      <td>15.6</td>\n",
       "      <td>Full HD 1920x1080</td>\n",
       "      <td>Intel Core i5 7200U 2.5GHz</td>\n",
       "      <td>8GB</td>\n",
       "      <td>256GB SSD</td>\n",
       "      <td>Intel HD Graphics 620</td>\n",
       "      <td>No OS</td>\n",
       "      <td>1.86kg</td>\n",
       "      <td>30636.0000</td>\n",
       "    </tr>\n",
       "    <tr>\n",
       "      <th>3</th>\n",
       "      <td>3</td>\n",
       "      <td>Apple</td>\n",
       "      <td>Ultrabook</td>\n",
       "      <td>15.4</td>\n",
       "      <td>IPS Panel Retina Display 2880x1800</td>\n",
       "      <td>Intel Core i7 2.7GHz</td>\n",
       "      <td>16GB</td>\n",
       "      <td>512GB SSD</td>\n",
       "      <td>AMD Radeon Pro 455</td>\n",
       "      <td>macOS</td>\n",
       "      <td>1.83kg</td>\n",
       "      <td>135195.3360</td>\n",
       "    </tr>\n",
       "    <tr>\n",
       "      <th>4</th>\n",
       "      <td>4</td>\n",
       "      <td>Apple</td>\n",
       "      <td>Ultrabook</td>\n",
       "      <td>13.3</td>\n",
       "      <td>IPS Panel Retina Display 2560x1600</td>\n",
       "      <td>Intel Core i5 3.1GHz</td>\n",
       "      <td>8GB</td>\n",
       "      <td>256GB SSD</td>\n",
       "      <td>Intel Iris Plus Graphics 650</td>\n",
       "      <td>macOS</td>\n",
       "      <td>1.37kg</td>\n",
       "      <td>96095.8080</td>\n",
       "    </tr>\n",
       "    <tr>\n",
       "      <th>...</th>\n",
       "      <td>...</td>\n",
       "      <td>...</td>\n",
       "      <td>...</td>\n",
       "      <td>...</td>\n",
       "      <td>...</td>\n",
       "      <td>...</td>\n",
       "      <td>...</td>\n",
       "      <td>...</td>\n",
       "      <td>...</td>\n",
       "      <td>...</td>\n",
       "      <td>...</td>\n",
       "      <td>...</td>\n",
       "    </tr>\n",
       "    <tr>\n",
       "      <th>1298</th>\n",
       "      <td>1298</td>\n",
       "      <td>Lenovo</td>\n",
       "      <td>2 in 1 Convertible</td>\n",
       "      <td>14.0</td>\n",
       "      <td>IPS Panel Full HD / Touchscreen 1920x1080</td>\n",
       "      <td>Intel Core i7 6500U 2.5GHz</td>\n",
       "      <td>4GB</td>\n",
       "      <td>128GB SSD</td>\n",
       "      <td>Intel HD Graphics 520</td>\n",
       "      <td>Windows 10</td>\n",
       "      <td>1.8kg</td>\n",
       "      <td>33992.6400</td>\n",
       "    </tr>\n",
       "    <tr>\n",
       "      <th>1299</th>\n",
       "      <td>1299</td>\n",
       "      <td>Lenovo</td>\n",
       "      <td>2 in 1 Convertible</td>\n",
       "      <td>13.3</td>\n",
       "      <td>IPS Panel Quad HD+ / Touchscreen 3200x1800</td>\n",
       "      <td>Intel Core i7 6500U 2.5GHz</td>\n",
       "      <td>16GB</td>\n",
       "      <td>512GB SSD</td>\n",
       "      <td>Intel HD Graphics 520</td>\n",
       "      <td>Windows 10</td>\n",
       "      <td>1.3kg</td>\n",
       "      <td>79866.7200</td>\n",
       "    </tr>\n",
       "    <tr>\n",
       "      <th>1300</th>\n",
       "      <td>1300</td>\n",
       "      <td>Lenovo</td>\n",
       "      <td>Notebook</td>\n",
       "      <td>14.0</td>\n",
       "      <td>1366x768</td>\n",
       "      <td>Intel Celeron Dual Core N3050 1.6GHz</td>\n",
       "      <td>2GB</td>\n",
       "      <td>64GB Flash Storage</td>\n",
       "      <td>Intel HD Graphics</td>\n",
       "      <td>Windows 10</td>\n",
       "      <td>1.5kg</td>\n",
       "      <td>12201.1200</td>\n",
       "    </tr>\n",
       "    <tr>\n",
       "      <th>1301</th>\n",
       "      <td>1301</td>\n",
       "      <td>HP</td>\n",
       "      <td>Notebook</td>\n",
       "      <td>15.6</td>\n",
       "      <td>1366x768</td>\n",
       "      <td>Intel Core i7 6500U 2.5GHz</td>\n",
       "      <td>6GB</td>\n",
       "      <td>1TB HDD</td>\n",
       "      <td>AMD Radeon R5 M330</td>\n",
       "      <td>Windows 10</td>\n",
       "      <td>2.19kg</td>\n",
       "      <td>40705.9200</td>\n",
       "    </tr>\n",
       "    <tr>\n",
       "      <th>1302</th>\n",
       "      <td>1302</td>\n",
       "      <td>Asus</td>\n",
       "      <td>Notebook</td>\n",
       "      <td>15.6</td>\n",
       "      <td>1366x768</td>\n",
       "      <td>Intel Celeron Dual Core N3050 1.6GHz</td>\n",
       "      <td>4GB</td>\n",
       "      <td>500GB HDD</td>\n",
       "      <td>Intel HD Graphics</td>\n",
       "      <td>Windows 10</td>\n",
       "      <td>2.2kg</td>\n",
       "      <td>19660.3200</td>\n",
       "    </tr>\n",
       "  </tbody>\n",
       "</table>\n",
       "<p>1303 rows × 12 columns</p>\n",
       "</div>"
      ],
      "text/plain": [
       "      Unnamed: 0 Company            TypeName  Inches  \\\n",
       "0              0   Apple           Ultrabook    13.3   \n",
       "1              1   Apple           Ultrabook    13.3   \n",
       "2              2      HP            Notebook    15.6   \n",
       "3              3   Apple           Ultrabook    15.4   \n",
       "4              4   Apple           Ultrabook    13.3   \n",
       "...          ...     ...                 ...     ...   \n",
       "1298        1298  Lenovo  2 in 1 Convertible    14.0   \n",
       "1299        1299  Lenovo  2 in 1 Convertible    13.3   \n",
       "1300        1300  Lenovo            Notebook    14.0   \n",
       "1301        1301      HP            Notebook    15.6   \n",
       "1302        1302    Asus            Notebook    15.6   \n",
       "\n",
       "                                ScreenResolution  \\\n",
       "0             IPS Panel Retina Display 2560x1600   \n",
       "1                                       1440x900   \n",
       "2                              Full HD 1920x1080   \n",
       "3             IPS Panel Retina Display 2880x1800   \n",
       "4             IPS Panel Retina Display 2560x1600   \n",
       "...                                          ...   \n",
       "1298   IPS Panel Full HD / Touchscreen 1920x1080   \n",
       "1299  IPS Panel Quad HD+ / Touchscreen 3200x1800   \n",
       "1300                                    1366x768   \n",
       "1301                                    1366x768   \n",
       "1302                                    1366x768   \n",
       "\n",
       "                                       Cpu   Ram               Memory  \\\n",
       "0                     Intel Core i5 2.3GHz   8GB            128GB SSD   \n",
       "1                     Intel Core i5 1.8GHz   8GB  128GB Flash Storage   \n",
       "2               Intel Core i5 7200U 2.5GHz   8GB            256GB SSD   \n",
       "3                     Intel Core i7 2.7GHz  16GB            512GB SSD   \n",
       "4                     Intel Core i5 3.1GHz   8GB            256GB SSD   \n",
       "...                                    ...   ...                  ...   \n",
       "1298            Intel Core i7 6500U 2.5GHz   4GB            128GB SSD   \n",
       "1299            Intel Core i7 6500U 2.5GHz  16GB            512GB SSD   \n",
       "1300  Intel Celeron Dual Core N3050 1.6GHz   2GB   64GB Flash Storage   \n",
       "1301            Intel Core i7 6500U 2.5GHz   6GB              1TB HDD   \n",
       "1302  Intel Celeron Dual Core N3050 1.6GHz   4GB            500GB HDD   \n",
       "\n",
       "                               Gpu       OpSys  Weight        Price  \n",
       "0     Intel Iris Plus Graphics 640       macOS  1.37kg   71378.6832  \n",
       "1           Intel HD Graphics 6000       macOS  1.34kg   47895.5232  \n",
       "2            Intel HD Graphics 620       No OS  1.86kg   30636.0000  \n",
       "3               AMD Radeon Pro 455       macOS  1.83kg  135195.3360  \n",
       "4     Intel Iris Plus Graphics 650       macOS  1.37kg   96095.8080  \n",
       "...                            ...         ...     ...          ...  \n",
       "1298         Intel HD Graphics 520  Windows 10   1.8kg   33992.6400  \n",
       "1299         Intel HD Graphics 520  Windows 10   1.3kg   79866.7200  \n",
       "1300             Intel HD Graphics  Windows 10   1.5kg   12201.1200  \n",
       "1301            AMD Radeon R5 M330  Windows 10  2.19kg   40705.9200  \n",
       "1302             Intel HD Graphics  Windows 10   2.2kg   19660.3200  \n",
       "\n",
       "[1303 rows x 12 columns]"
      ]
     },
     "execution_count": 2,
     "metadata": {},
     "output_type": "execute_result"
    }
   ],
   "source": [
    "df = pd.read_csv('laptop_dataset.csv')\n",
    "df"
   ]
  },
  {
   "cell_type": "code",
   "execution_count": 3,
   "id": "8bfdbfd7-70f1-40d4-a028-d33592f3a65d",
   "metadata": {},
   "outputs": [],
   "source": [
    "df.drop('Unnamed: 0' , axis =1 , inplace = True)"
   ]
  },
  {
   "cell_type": "code",
   "execution_count": 4,
   "id": "06a9b3a4-6d94-4b75-8312-f3af47344810",
   "metadata": {},
   "outputs": [
    {
     "data": {
      "text/plain": [
       "Company             0\n",
       "TypeName            0\n",
       "Inches              0\n",
       "ScreenResolution    0\n",
       "Cpu                 0\n",
       "Ram                 0\n",
       "Memory              0\n",
       "Gpu                 0\n",
       "OpSys               0\n",
       "Weight              0\n",
       "Price               0\n",
       "dtype: int64"
      ]
     },
     "execution_count": 4,
     "metadata": {},
     "output_type": "execute_result"
    }
   ],
   "source": [
    "df.isnull().sum()"
   ]
  },
  {
   "cell_type": "code",
   "execution_count": 5,
   "id": "333b5896-cc6b-4b96-b66a-0e59ad20d7b5",
   "metadata": {},
   "outputs": [
    {
     "data": {
      "text/plain": [
       "29"
      ]
     },
     "execution_count": 5,
     "metadata": {},
     "output_type": "execute_result"
    }
   ],
   "source": [
    "df.duplicated().sum()"
   ]
  },
  {
   "cell_type": "code",
   "execution_count": 6,
   "id": "abdde841-ffa7-46ce-af3d-fee967f3c7c2",
   "metadata": {},
   "outputs": [],
   "source": [
    "df.drop_duplicates(inplace=True)"
   ]
  },
  {
   "cell_type": "code",
   "execution_count": 7,
   "id": "b80226b8-f82f-42c2-9229-7f88d2ffac4c",
   "metadata": {},
   "outputs": [
    {
     "data": {
      "text/plain": [
       "0"
      ]
     },
     "execution_count": 7,
     "metadata": {},
     "output_type": "execute_result"
    }
   ],
   "source": [
    "df.duplicated().sum()"
   ]
  },
  {
   "cell_type": "code",
   "execution_count": 8,
   "id": "8323b6a4-db5d-4c1c-b730-ea0a440637ef",
   "metadata": {},
   "outputs": [
    {
     "data": {
      "text/html": [
       "<div>\n",
       "<style scoped>\n",
       "    .dataframe tbody tr th:only-of-type {\n",
       "        vertical-align: middle;\n",
       "    }\n",
       "\n",
       "    .dataframe tbody tr th {\n",
       "        vertical-align: top;\n",
       "    }\n",
       "\n",
       "    .dataframe thead th {\n",
       "        text-align: right;\n",
       "    }\n",
       "</style>\n",
       "<table border=\"1\" class=\"dataframe\">\n",
       "  <thead>\n",
       "    <tr style=\"text-align: right;\">\n",
       "      <th></th>\n",
       "      <th>Company</th>\n",
       "      <th>TypeName</th>\n",
       "      <th>Inches</th>\n",
       "      <th>ScreenResolution</th>\n",
       "      <th>Cpu</th>\n",
       "      <th>Ram</th>\n",
       "      <th>Memory</th>\n",
       "      <th>Gpu</th>\n",
       "      <th>OpSys</th>\n",
       "      <th>Weight</th>\n",
       "      <th>Price</th>\n",
       "    </tr>\n",
       "  </thead>\n",
       "  <tbody>\n",
       "    <tr>\n",
       "      <th>0</th>\n",
       "      <td>Apple</td>\n",
       "      <td>Ultrabook</td>\n",
       "      <td>13.3</td>\n",
       "      <td>IPS Panel Retina Display 2560x1600</td>\n",
       "      <td>Intel Core i5 2.3GHz</td>\n",
       "      <td>8GB</td>\n",
       "      <td>128GB SSD</td>\n",
       "      <td>Intel Iris Plus Graphics 640</td>\n",
       "      <td>macOS</td>\n",
       "      <td>1.37kg</td>\n",
       "      <td>71378.6832</td>\n",
       "    </tr>\n",
       "    <tr>\n",
       "      <th>1</th>\n",
       "      <td>Apple</td>\n",
       "      <td>Ultrabook</td>\n",
       "      <td>13.3</td>\n",
       "      <td>1440x900</td>\n",
       "      <td>Intel Core i5 1.8GHz</td>\n",
       "      <td>8GB</td>\n",
       "      <td>128GB Flash Storage</td>\n",
       "      <td>Intel HD Graphics 6000</td>\n",
       "      <td>macOS</td>\n",
       "      <td>1.34kg</td>\n",
       "      <td>47895.5232</td>\n",
       "    </tr>\n",
       "    <tr>\n",
       "      <th>2</th>\n",
       "      <td>HP</td>\n",
       "      <td>Notebook</td>\n",
       "      <td>15.6</td>\n",
       "      <td>Full HD 1920x1080</td>\n",
       "      <td>Intel Core i5 7200U 2.5GHz</td>\n",
       "      <td>8GB</td>\n",
       "      <td>256GB SSD</td>\n",
       "      <td>Intel HD Graphics 620</td>\n",
       "      <td>No OS</td>\n",
       "      <td>1.86kg</td>\n",
       "      <td>30636.0000</td>\n",
       "    </tr>\n",
       "    <tr>\n",
       "      <th>3</th>\n",
       "      <td>Apple</td>\n",
       "      <td>Ultrabook</td>\n",
       "      <td>15.4</td>\n",
       "      <td>IPS Panel Retina Display 2880x1800</td>\n",
       "      <td>Intel Core i7 2.7GHz</td>\n",
       "      <td>16GB</td>\n",
       "      <td>512GB SSD</td>\n",
       "      <td>AMD Radeon Pro 455</td>\n",
       "      <td>macOS</td>\n",
       "      <td>1.83kg</td>\n",
       "      <td>135195.3360</td>\n",
       "    </tr>\n",
       "    <tr>\n",
       "      <th>4</th>\n",
       "      <td>Apple</td>\n",
       "      <td>Ultrabook</td>\n",
       "      <td>13.3</td>\n",
       "      <td>IPS Panel Retina Display 2560x1600</td>\n",
       "      <td>Intel Core i5 3.1GHz</td>\n",
       "      <td>8GB</td>\n",
       "      <td>256GB SSD</td>\n",
       "      <td>Intel Iris Plus Graphics 650</td>\n",
       "      <td>macOS</td>\n",
       "      <td>1.37kg</td>\n",
       "      <td>96095.8080</td>\n",
       "    </tr>\n",
       "    <tr>\n",
       "      <th>5</th>\n",
       "      <td>Acer</td>\n",
       "      <td>Notebook</td>\n",
       "      <td>15.6</td>\n",
       "      <td>1366x768</td>\n",
       "      <td>AMD A9-Series 9420 3GHz</td>\n",
       "      <td>4GB</td>\n",
       "      <td>500GB HDD</td>\n",
       "      <td>AMD Radeon R5</td>\n",
       "      <td>Windows 10</td>\n",
       "      <td>2.1kg</td>\n",
       "      <td>21312.0000</td>\n",
       "    </tr>\n",
       "    <tr>\n",
       "      <th>6</th>\n",
       "      <td>Apple</td>\n",
       "      <td>Ultrabook</td>\n",
       "      <td>15.4</td>\n",
       "      <td>IPS Panel Retina Display 2880x1800</td>\n",
       "      <td>Intel Core i7 2.2GHz</td>\n",
       "      <td>16GB</td>\n",
       "      <td>256GB Flash Storage</td>\n",
       "      <td>Intel Iris Pro Graphics</td>\n",
       "      <td>Mac OS X</td>\n",
       "      <td>2.04kg</td>\n",
       "      <td>114017.6016</td>\n",
       "    </tr>\n",
       "    <tr>\n",
       "      <th>7</th>\n",
       "      <td>Apple</td>\n",
       "      <td>Ultrabook</td>\n",
       "      <td>13.3</td>\n",
       "      <td>1440x900</td>\n",
       "      <td>Intel Core i5 1.8GHz</td>\n",
       "      <td>8GB</td>\n",
       "      <td>256GB Flash Storage</td>\n",
       "      <td>Intel HD Graphics 6000</td>\n",
       "      <td>macOS</td>\n",
       "      <td>1.34kg</td>\n",
       "      <td>61735.5360</td>\n",
       "    </tr>\n",
       "    <tr>\n",
       "      <th>8</th>\n",
       "      <td>Asus</td>\n",
       "      <td>Ultrabook</td>\n",
       "      <td>14.0</td>\n",
       "      <td>Full HD 1920x1080</td>\n",
       "      <td>Intel Core i7 8550U 1.8GHz</td>\n",
       "      <td>16GB</td>\n",
       "      <td>512GB SSD</td>\n",
       "      <td>Nvidia GeForce MX150</td>\n",
       "      <td>Windows 10</td>\n",
       "      <td>1.3kg</td>\n",
       "      <td>79653.6000</td>\n",
       "    </tr>\n",
       "    <tr>\n",
       "      <th>9</th>\n",
       "      <td>Acer</td>\n",
       "      <td>Ultrabook</td>\n",
       "      <td>14.0</td>\n",
       "      <td>IPS Panel Full HD 1920x1080</td>\n",
       "      <td>Intel Core i5 8250U 1.6GHz</td>\n",
       "      <td>8GB</td>\n",
       "      <td>256GB SSD</td>\n",
       "      <td>Intel UHD Graphics 620</td>\n",
       "      <td>Windows 10</td>\n",
       "      <td>1.6kg</td>\n",
       "      <td>41025.6000</td>\n",
       "    </tr>\n",
       "  </tbody>\n",
       "</table>\n",
       "</div>"
      ],
      "text/plain": [
       "  Company   TypeName  Inches                    ScreenResolution  \\\n",
       "0   Apple  Ultrabook    13.3  IPS Panel Retina Display 2560x1600   \n",
       "1   Apple  Ultrabook    13.3                            1440x900   \n",
       "2      HP   Notebook    15.6                   Full HD 1920x1080   \n",
       "3   Apple  Ultrabook    15.4  IPS Panel Retina Display 2880x1800   \n",
       "4   Apple  Ultrabook    13.3  IPS Panel Retina Display 2560x1600   \n",
       "5    Acer   Notebook    15.6                            1366x768   \n",
       "6   Apple  Ultrabook    15.4  IPS Panel Retina Display 2880x1800   \n",
       "7   Apple  Ultrabook    13.3                            1440x900   \n",
       "8    Asus  Ultrabook    14.0                   Full HD 1920x1080   \n",
       "9    Acer  Ultrabook    14.0         IPS Panel Full HD 1920x1080   \n",
       "\n",
       "                          Cpu   Ram               Memory  \\\n",
       "0        Intel Core i5 2.3GHz   8GB            128GB SSD   \n",
       "1        Intel Core i5 1.8GHz   8GB  128GB Flash Storage   \n",
       "2  Intel Core i5 7200U 2.5GHz   8GB            256GB SSD   \n",
       "3        Intel Core i7 2.7GHz  16GB            512GB SSD   \n",
       "4        Intel Core i5 3.1GHz   8GB            256GB SSD   \n",
       "5     AMD A9-Series 9420 3GHz   4GB            500GB HDD   \n",
       "6        Intel Core i7 2.2GHz  16GB  256GB Flash Storage   \n",
       "7        Intel Core i5 1.8GHz   8GB  256GB Flash Storage   \n",
       "8  Intel Core i7 8550U 1.8GHz  16GB            512GB SSD   \n",
       "9  Intel Core i5 8250U 1.6GHz   8GB            256GB SSD   \n",
       "\n",
       "                            Gpu       OpSys  Weight        Price  \n",
       "0  Intel Iris Plus Graphics 640       macOS  1.37kg   71378.6832  \n",
       "1        Intel HD Graphics 6000       macOS  1.34kg   47895.5232  \n",
       "2         Intel HD Graphics 620       No OS  1.86kg   30636.0000  \n",
       "3            AMD Radeon Pro 455       macOS  1.83kg  135195.3360  \n",
       "4  Intel Iris Plus Graphics 650       macOS  1.37kg   96095.8080  \n",
       "5                 AMD Radeon R5  Windows 10   2.1kg   21312.0000  \n",
       "6       Intel Iris Pro Graphics    Mac OS X  2.04kg  114017.6016  \n",
       "7        Intel HD Graphics 6000       macOS  1.34kg   61735.5360  \n",
       "8          Nvidia GeForce MX150  Windows 10   1.3kg   79653.6000  \n",
       "9        Intel UHD Graphics 620  Windows 10   1.6kg   41025.6000  "
      ]
     },
     "execution_count": 8,
     "metadata": {},
     "output_type": "execute_result"
    }
   ],
   "source": [
    "df.head(10)"
   ]
  },
  {
   "cell_type": "markdown",
   "id": "fea53f41-5033-4fae-bed2-4844da8e6d9b",
   "metadata": {},
   "source": [
    "# Handling Company Feature"
   ]
  },
  {
   "cell_type": "code",
   "execution_count": 9,
   "id": "56c00aad-8b3a-4393-bf8f-1cc110761625",
   "metadata": {},
   "outputs": [
    {
     "data": {
      "text/plain": [
       "array(['Apple', 'HP', 'Acer', 'Asus', 'Dell', 'Lenovo', 'Chuwi', 'MSI',\n",
       "       'Microsoft', 'Toshiba', 'Huawei', 'Xiaomi', 'Vero', 'Razer',\n",
       "       'Mediacom', 'Samsung', 'Google', 'Fujitsu', 'LG'], dtype=object)"
      ]
     },
     "execution_count": 9,
     "metadata": {},
     "output_type": "execute_result"
    }
   ],
   "source": [
    "df['Company'].unique()"
   ]
  },
  {
   "cell_type": "code",
   "execution_count": 10,
   "id": "236656e9-57ff-441a-b677-7077d6976850",
   "metadata": {},
   "outputs": [],
   "source": [
    "company_counts = df['Company'].value_counts()"
   ]
  },
  {
   "cell_type": "code",
   "execution_count": 11,
   "id": "fa51ec88-3774-400f-9329-2da7164f69ea",
   "metadata": {},
   "outputs": [
    {
     "data": {
      "text/plain": [
       "Company\n",
       "Dell         291\n",
       "Lenovo       289\n",
       "HP           268\n",
       "Asus         151\n",
       "Acer         101\n",
       "MSI           54\n",
       "Toshiba       48\n",
       "Apple         21\n",
       "Samsung        9\n",
       "Razer          7\n",
       "Mediacom       7\n",
       "Microsoft      6\n",
       "Xiaomi         4\n",
       "Vero           4\n",
       "Chuwi          3\n",
       "Google         3\n",
       "Fujitsu        3\n",
       "LG             3\n",
       "Huawei         2\n",
       "Name: count, dtype: int64"
      ]
     },
     "execution_count": 11,
     "metadata": {},
     "output_type": "execute_result"
    }
   ],
   "source": [
    "company_counts"
   ]
  },
  {
   "cell_type": "code",
   "execution_count": 12,
   "id": "9672e86e-c49c-496c-a804-4aea7b483e1c",
   "metadata": {},
   "outputs": [],
   "source": [
    "companies_to_replace = company_counts[company_counts<=10].index"
   ]
  },
  {
   "cell_type": "code",
   "execution_count": 13,
   "id": "910e5be0-5ed5-41ab-bb5a-148e23fdbd09",
   "metadata": {},
   "outputs": [
    {
     "data": {
      "text/plain": [
       "Company\n",
       "Dell       291\n",
       "Lenovo     289\n",
       "HP         268\n",
       "Asus       151\n",
       "Acer       101\n",
       "MSI         54\n",
       "Other       51\n",
       "Toshiba     48\n",
       "Apple       21\n",
       "Name: count, dtype: int64"
      ]
     },
     "execution_count": 13,
     "metadata": {},
     "output_type": "execute_result"
    }
   ],
   "source": [
    "for i in df['Company']:\n",
    "    if i in companies_to_replace : \n",
    "        df['Company'].replace(i,'Other' , inplace = True)\n",
    "\n",
    "df['Company'].value_counts()"
   ]
  },
  {
   "cell_type": "code",
   "execution_count": 14,
   "id": "54ee5f6c-77b4-4dac-a66a-55e03f72ca44",
   "metadata": {},
   "outputs": [
    {
     "data": {
      "text/plain": [
       "<Axes: xlabel='Company', ylabel='Price'>"
      ]
     },
     "execution_count": 14,
     "metadata": {},
     "output_type": "execute_result"
    },
    {
     "data": {
      "image/png": "[encoded data removed]",
      "text/plain": [
       "<Figure size 640x480 with 1 Axes>"
      ]
     },
     "metadata": {},
     "output_type": "display_data"
    }
   ],
   "source": [
    "sns.barplot(x='Company', y='Price', data=df)"
   ]
  },
  {
   "cell_type": "markdown",
   "id": "48727d76-5b32-47ee-92d7-131204e0a2f2",
   "metadata": {},
   "source": [
    "# Handling TypeName Feature"
   ]
  },
  {
   "cell_type": "code",
   "execution_count": 15,
   "id": "0447a50f-9b98-4bce-b64d-1426c2abed86",
   "metadata": {},
   "outputs": [
    {
     "data": {
      "text/plain": [
       "array(['Ultrabook', 'Notebook', 'Netbook', 'Gaming', '2 in 1 Convertible',\n",
       "       'Workstation'], dtype=object)"
      ]
     },
     "execution_count": 15,
     "metadata": {},
     "output_type": "execute_result"
    }
   ],
   "source": [
    "df['TypeName'].unique()"
   ]
  },
  {
   "cell_type": "code",
   "execution_count": 16,
   "id": "53030618-99e4-48d9-aa4e-c2d627b068f1",
   "metadata": {},
   "outputs": [
    {
     "data": {
      "image/png": "[encoded data removed]",
      "text/plain": [
       "<Figure size 640x480 with 1 Axes>"
      ]
     },
     "metadata": {},
     "output_type": "display_data"
    }
   ],
   "source": [
    "sns.barplot(x='TypeName' , y='Price' , data=df)\n",
    "plt.xticks(rotation=45)\n",
    "plt.show()"
   ]
  },
  {
   "cell_type": "markdown",
   "id": "3d08c348-3849-4a66-8d29-cd252d755ac9",
   "metadata": {},
   "source": [
    "# Inches Feature"
   ]
  },
  {
   "cell_type": "code",
   "execution_count": 17,
   "id": "69b94524-2bc7-4799-881d-26444c8f4775",
   "metadata": {},
   "outputs": [
    {
     "data": {
      "text/plain": [
       "<Axes: xlabel='Inches', ylabel='Price'>"
      ]
     },
     "execution_count": 17,
     "metadata": {},
     "output_type": "execute_result"
    },
    {
     "data": {
      "image/png": "[encoded data removed]",
      "text/plain": [
       "<Figure size 640x480 with 1 Axes>"
      ]
     },
     "metadata": {},
     "output_type": "display_data"
    }
   ],
   "source": [
    "sns.scatterplot(x=df['Inches'],y=df['Price'])"
   ]
  },
  {
   "cell_type": "code",
   "execution_count": 18,
   "id": "5610c92d-326d-4793-ae5a-c074cc98af90",
   "metadata": {},
   "outputs": [
    {
     "data": {
      "image/png": "[encoded data removed]",
      "text/plain": [
       "<Figure size 640x480 with 1 Axes>"
      ]
     },
     "metadata": {},
     "output_type": "display_data"
    }
   ],
   "source": [
    "sns.barplot(x=df['Inches'],y=df['Price'])\n",
    "plt.xticks(rotation=30)\n",
    "plt.show()"
   ]
  },
  {
   "cell_type": "markdown",
   "id": "69a7ce07-0c05-464b-b089-4beaf7cf327f",
   "metadata": {},
   "source": [
    "# Screen Resolution Feature"
   ]
  },
  {
   "cell_type": "code",
   "execution_count": 19,
   "id": "5fca8c1e-3314-417b-86c1-4e7645afc268",
   "metadata": {},
   "outputs": [
    {
     "data": {
      "text/plain": [
       "array(['IPS Panel Retina Display 2560x1600', '1440x900',\n",
       "       'Full HD 1920x1080', 'IPS Panel Retina Display 2880x1800',\n",
       "       '1366x768', 'IPS Panel Full HD 1920x1080',\n",
       "       'IPS Panel Retina Display 2304x1440',\n",
       "       'IPS Panel Full HD / Touchscreen 1920x1080',\n",
       "       'Full HD / Touchscreen 1920x1080',\n",
       "       'Touchscreen / Quad HD+ 3200x1800',\n",
       "       'IPS Panel Touchscreen 1920x1200', 'Touchscreen 2256x1504',\n",
       "       'Quad HD+ / Touchscreen 3200x1800', 'IPS Panel 1366x768',\n",
       "       'IPS Panel 4K Ultra HD / Touchscreen 3840x2160',\n",
       "       'IPS Panel Full HD 2160x1440',\n",
       "       '4K Ultra HD / Touchscreen 3840x2160', 'Touchscreen 2560x1440',\n",
       "       '1600x900', 'IPS Panel 4K Ultra HD 3840x2160',\n",
       "       '4K Ultra HD 3840x2160', 'Touchscreen 1366x768',\n",
       "       'IPS Panel Full HD 1366x768', 'IPS Panel 2560x1440',\n",
       "       'IPS Panel Full HD 2560x1440',\n",
       "       'IPS Panel Retina Display 2736x1824', 'Touchscreen 2400x1600',\n",
       "       '2560x1440', 'IPS Panel Quad HD+ 2560x1440',\n",
       "       'IPS Panel Quad HD+ 3200x1800',\n",
       "       'IPS Panel Quad HD+ / Touchscreen 3200x1800',\n",
       "       'IPS Panel Touchscreen 1366x768', '1920x1080',\n",
       "       'IPS Panel Full HD 1920x1200',\n",
       "       'IPS Panel Touchscreen / 4K Ultra HD 3840x2160',\n",
       "       'IPS Panel Touchscreen 2560x1440',\n",
       "       'Touchscreen / Full HD 1920x1080', 'Quad HD+ 3200x1800',\n",
       "       'Touchscreen / 4K Ultra HD 3840x2160',\n",
       "       'IPS Panel Touchscreen 2400x1600'], dtype=object)"
      ]
     },
     "execution_count": 19,
     "metadata": {},
     "output_type": "execute_result"
    }
   ],
   "source": [
    "df['ScreenResolution'].unique()"
   ]
  },
  {
   "cell_type": "code",
   "execution_count": 20,
   "id": "8ae006d9-4313-4c34-a35f-496dd8ab5e1b",
   "metadata": {},
   "outputs": [],
   "source": [
    "df['Touchscreen'] = df['ScreenResolution'].apply(lambda x:1 if 'Touchscreen' in x else 0)"
   ]
  },
  {
   "cell_type": "code",
   "execution_count": 21,
   "id": "71b9949a-bf3c-456e-baae-3d445b190d24",
   "metadata": {},
   "outputs": [
    {
     "data": {
      "text/plain": [
       "<Axes: xlabel='Touchscreen', ylabel='Price'>"
      ]
     },
     "execution_count": 21,
     "metadata": {},
     "output_type": "execute_result"
    },
    {
     "data": {
      "image/png": "[encoded data removed]",
      "text/plain": [
       "<Figure size 640x480 with 1 Axes>"
      ]
     },
     "metadata": {},
     "output_type": "display_data"
    }
   ],
   "source": [
    "sns.barplot(x=df['Touchscreen'],y=df['Price'])"
   ]
  },
  {
   "cell_type": "code",
   "execution_count": 22,
   "id": "a746f86c-41ff-49e3-9c47-ec3ef01f106b",
   "metadata": {},
   "outputs": [],
   "source": [
    "df['Ips'] = df['ScreenResolution'].apply(lambda x:1 if 'IPS' in x else 0)"
   ]
  },
  {
   "cell_type": "code",
   "execution_count": 23,
   "id": "ae7f8935-efe7-4a37-b426-c7952dc59b13",
   "metadata": {},
   "outputs": [
    {
     "data": {
      "text/plain": [
       "<Axes: xlabel='Ips', ylabel='Price'>"
      ]
     },
     "execution_count": 23,
     "metadata": {},
     "output_type": "execute_result"
    },
    {
     "data": {
      "image/png": "[encoded data removed]",
      "text/plain": [
       "<Figure size 640x480 with 1 Axes>"
      ]
     },
     "metadata": {},
     "output_type": "display_data"
    }
   ],
   "source": [
    "sns.barplot(x=df['Ips'],y=df['Price'])"
   ]
  },
  {
   "cell_type": "code",
   "execution_count": 24,
   "id": "d8461871-937d-4f2c-b530-cdbd3c5a9518",
   "metadata": {},
   "outputs": [],
   "source": [
    "resolution = df['ScreenResolution'].str.extract(r'(\\d+)x(\\d+)', expand=True)"
   ]
  },
  {
   "cell_type": "code",
   "execution_count": 25,
   "id": "908dc304-faf9-4007-b2ef-8994c17062f7",
   "metadata": {},
   "outputs": [],
   "source": [
    "df['X_res'] = resolution[0].astype(int)\n",
    "df['Y_res'] = resolution[1].astype(int)"
   ]
  },
  {
   "cell_type": "code",
   "execution_count": 26,
   "id": "438dd692-5b21-48d6-aee9-f8bc9278e171",
   "metadata": {},
   "outputs": [],
   "source": [
    "df['ppi'] = (((df['X_res']**2) + (df['Y_res']**2))**0.5/df['Inches']).astype('float')"
   ]
  },
  {
   "cell_type": "code",
   "execution_count": 27,
   "id": "6ca045f7-14c7-4fb5-9736-294046dd6c68",
   "metadata": {},
   "outputs": [],
   "source": [
    "df.drop(columns=['ScreenResolution'],inplace=True)"
   ]
  },
  {
   "cell_type": "code",
   "execution_count": 28,
   "id": "744f4779-4bd3-419d-87af-9048c9df32ba",
   "metadata": {},
   "outputs": [],
   "source": [
    "df.drop(columns=['Inches','X_res','Y_res'],inplace=True)"
   ]
  },
  {
   "cell_type": "code",
   "execution_count": 29,
   "id": "76efd791-9385-4626-b311-325d832835ef",
   "metadata": {},
   "outputs": [
    {
     "data": {
      "text/html": [
       "<div>\n",
       "<style scoped>\n",
       "    .dataframe tbody tr th:only-of-type {\n",
       "        vertical-align: middle;\n",
       "    }\n",
       "\n",
       "    .dataframe tbody tr th {\n",
       "        vertical-align: top;\n",
       "    }\n",
       "\n",
       "    .dataframe thead th {\n",
       "        text-align: right;\n",
       "    }\n",
       "</style>\n",
       "<table border=\"1\" class=\"dataframe\">\n",
       "  <thead>\n",
       "    <tr style=\"text-align: right;\">\n",
       "      <th></th>\n",
       "      <th>Company</th>\n",
       "      <th>TypeName</th>\n",
       "      <th>Cpu</th>\n",
       "      <th>Ram</th>\n",
       "      <th>Memory</th>\n",
       "      <th>Gpu</th>\n",
       "      <th>OpSys</th>\n",
       "      <th>Weight</th>\n",
       "      <th>Price</th>\n",
       "      <th>Touchscreen</th>\n",
       "      <th>Ips</th>\n",
       "      <th>ppi</th>\n",
       "    </tr>\n",
       "  </thead>\n",
       "  <tbody>\n",
       "    <tr>\n",
       "      <th>0</th>\n",
       "      <td>Apple</td>\n",
       "      <td>Ultrabook</td>\n",
       "      <td>Intel Core i5 2.3GHz</td>\n",
       "      <td>8GB</td>\n",
       "      <td>128GB SSD</td>\n",
       "      <td>Intel Iris Plus Graphics 640</td>\n",
       "      <td>macOS</td>\n",
       "      <td>1.37kg</td>\n",
       "      <td>71378.6832</td>\n",
       "      <td>0</td>\n",
       "      <td>1</td>\n",
       "      <td>226.983005</td>\n",
       "    </tr>\n",
       "    <tr>\n",
       "      <th>1</th>\n",
       "      <td>Apple</td>\n",
       "      <td>Ultrabook</td>\n",
       "      <td>Intel Core i5 1.8GHz</td>\n",
       "      <td>8GB</td>\n",
       "      <td>128GB Flash Storage</td>\n",
       "      <td>Intel HD Graphics 6000</td>\n",
       "      <td>macOS</td>\n",
       "      <td>1.34kg</td>\n",
       "      <td>47895.5232</td>\n",
       "      <td>0</td>\n",
       "      <td>0</td>\n",
       "      <td>127.677940</td>\n",
       "    </tr>\n",
       "    <tr>\n",
       "      <th>2</th>\n",
       "      <td>HP</td>\n",
       "      <td>Notebook</td>\n",
       "      <td>Intel Core i5 7200U 2.5GHz</td>\n",
       "      <td>8GB</td>\n",
       "      <td>256GB SSD</td>\n",
       "      <td>Intel HD Graphics 620</td>\n",
       "      <td>No OS</td>\n",
       "      <td>1.86kg</td>\n",
       "      <td>30636.0000</td>\n",
       "      <td>0</td>\n",
       "      <td>0</td>\n",
       "      <td>141.211998</td>\n",
       "    </tr>\n",
       "    <tr>\n",
       "      <th>3</th>\n",
       "      <td>Apple</td>\n",
       "      <td>Ultrabook</td>\n",
       "      <td>Intel Core i7 2.7GHz</td>\n",
       "      <td>16GB</td>\n",
       "      <td>512GB SSD</td>\n",
       "      <td>AMD Radeon Pro 455</td>\n",
       "      <td>macOS</td>\n",
       "      <td>1.83kg</td>\n",
       "      <td>135195.3360</td>\n",
       "      <td>0</td>\n",
       "      <td>1</td>\n",
       "      <td>220.534624</td>\n",
       "    </tr>\n",
       "    <tr>\n",
       "      <th>4</th>\n",
       "      <td>Apple</td>\n",
       "      <td>Ultrabook</td>\n",
       "      <td>Intel Core i5 3.1GHz</td>\n",
       "      <td>8GB</td>\n",
       "      <td>256GB SSD</td>\n",
       "      <td>Intel Iris Plus Graphics 650</td>\n",
       "      <td>macOS</td>\n",
       "      <td>1.37kg</td>\n",
       "      <td>96095.8080</td>\n",
       "      <td>0</td>\n",
       "      <td>1</td>\n",
       "      <td>226.983005</td>\n",
       "    </tr>\n",
       "  </tbody>\n",
       "</table>\n",
       "</div>"
      ],
      "text/plain": [
       "  Company   TypeName                         Cpu   Ram               Memory  \\\n",
       "0   Apple  Ultrabook        Intel Core i5 2.3GHz   8GB            128GB SSD   \n",
       "1   Apple  Ultrabook        Intel Core i5 1.8GHz   8GB  128GB Flash Storage   \n",
       "2      HP   Notebook  Intel Core i5 7200U 2.5GHz   8GB            256GB SSD   \n",
       "3   Apple  Ultrabook        Intel Core i7 2.7GHz  16GB            512GB SSD   \n",
       "4   Apple  Ultrabook        Intel Core i5 3.1GHz   8GB            256GB SSD   \n",
       "\n",
       "                            Gpu  OpSys  Weight        Price  Touchscreen  Ips  \\\n",
       "0  Intel Iris Plus Graphics 640  macOS  1.37kg   71378.6832            0    1   \n",
       "1        Intel HD Graphics 6000  macOS  1.34kg   47895.5232            0    0   \n",
       "2         Intel HD Graphics 620  No OS  1.86kg   30636.0000            0    0   \n",
       "3            AMD Radeon Pro 455  macOS  1.83kg  135195.3360            0    1   \n",
       "4  Intel Iris Plus Graphics 650  macOS  1.37kg   96095.8080            0    1   \n",
       "\n",
       "          ppi  \n",
       "0  226.983005  \n",
       "1  127.677940  \n",
       "2  141.211998  \n",
       "3  220.534624  \n",
       "4  226.983005  "
      ]
     },
     "execution_count": 29,
     "metadata": {},
     "output_type": "execute_result"
    }
   ],
   "source": [
    "df.head()"
   ]
  },
  {
   "cell_type": "markdown",
   "id": "437b2b06-e977-49af-bd31-44a2b58eb9b8",
   "metadata": {},
   "source": [
    "# Handling CPU Feature"
   ]
  },
  {
   "cell_type": "code",
   "execution_count": 30,
   "id": "96e5dfff-437d-4d40-8bb7-d60ef48c8717",
   "metadata": {},
   "outputs": [
    {
     "data": {
      "text/plain": [
       "array(['Intel Core i5 2.3GHz', 'Intel Core i5 1.8GHz',\n",
       "       'Intel Core i5 7200U 2.5GHz', 'Intel Core i7 2.7GHz',\n",
       "       'Intel Core i5 3.1GHz', 'AMD A9-Series 9420 3GHz',\n",
       "       'Intel Core i7 2.2GHz', 'Intel Core i7 8550U 1.8GHz',\n",
       "       'Intel Core i5 8250U 1.6GHz', 'Intel Core i3 6006U 2GHz',\n",
       "       'Intel Core i7 2.8GHz', 'Intel Core M m3 1.2GHz',\n",
       "       'Intel Core i7 7500U 2.7GHz', 'Intel Core i7 2.9GHz',\n",
       "       'Intel Core i3 7100U 2.4GHz', 'Intel Atom x5-Z8350 1.44GHz',\n",
       "       'Intel Core i5 7300HQ 2.5GHz', 'AMD E-Series E2-9000e 1.5GHz',\n",
       "       'Intel Core i5 1.6GHz', 'Intel Core i7 8650U 1.9GHz',\n",
       "       'Intel Atom x5-Z8300 1.44GHz', 'AMD E-Series E2-6110 1.5GHz',\n",
       "       'AMD A6-Series 9220 2.5GHz',\n",
       "       'Intel Celeron Dual Core N3350 1.1GHz',\n",
       "       'Intel Core i3 7130U 2.7GHz', 'Intel Core i7 7700HQ 2.8GHz',\n",
       "       'Intel Core i5 2.0GHz', 'AMD Ryzen 1700 3GHz',\n",
       "       'Intel Pentium Quad Core N4200 1.1GHz',\n",
       "       'Intel Atom x5-Z8550 1.44GHz',\n",
       "       'Intel Celeron Dual Core N3060 1.6GHz', 'Intel Core i5 1.3GHz',\n",
       "       'AMD FX 9830P 3GHz', 'Intel Core i7 7560U 2.4GHz',\n",
       "       'AMD E-Series 6110 1.5GHz', 'Intel Core i5 6200U 2.3GHz',\n",
       "       'Intel Core M 6Y75 1.2GHz', 'Intel Core i5 7500U 2.7GHz',\n",
       "       'Intel Core i3 6006U 2.2GHz', 'AMD A6-Series 9220 2.9GHz',\n",
       "       'Intel Core i7 6920HQ 2.9GHz', 'Intel Core i5 7Y54 1.2GHz',\n",
       "       'Intel Core i7 7820HK 2.9GHz', 'Intel Xeon E3-1505M V6 3GHz',\n",
       "       'Intel Core i7 6500U 2.5GHz', 'AMD E-Series 9000e 1.5GHz',\n",
       "       'AMD A10-Series A10-9620P 2.5GHz', 'AMD A6-Series A6-9220 2.5GHz',\n",
       "       'Intel Core i5 2.9GHz', 'Intel Core i7 6600U 2.6GHz',\n",
       "       'Intel Core i3 6006U 2.0GHz',\n",
       "       'Intel Celeron Dual Core 3205U 1.5GHz',\n",
       "       'Intel Core i7 7820HQ 2.9GHz', 'AMD A10-Series 9600P 2.4GHz',\n",
       "       'Intel Core i7 7600U 2.8GHz', 'AMD A8-Series 7410 2.2GHz',\n",
       "       'Intel Celeron Dual Core 3855U 1.6GHz',\n",
       "       'Intel Pentium Quad Core N3710 1.6GHz',\n",
       "       'AMD A12-Series 9720P 2.7GHz', 'Intel Core i5 7300U 2.6GHz',\n",
       "       'AMD A12-Series 9720P 3.6GHz',\n",
       "       'Intel Celeron Quad Core N3450 1.1GHz',\n",
       "       'Intel Celeron Dual Core N3060 1.60GHz',\n",
       "       'Intel Core i5 6440HQ 2.6GHz', 'Intel Core i7 6820HQ 2.7GHz',\n",
       "       'AMD Ryzen 1600 3.2GHz', 'Intel Core i7 7Y75 1.3GHz',\n",
       "       'Intel Core i5 7440HQ 2.8GHz', 'Intel Core i7 7660U 2.5GHz',\n",
       "       'Intel Core i7 7700HQ 2.7GHz', 'Intel Core M m3-7Y30 2.2GHz',\n",
       "       'Intel Core i5 7Y57 1.2GHz', 'Intel Core i7 6700HQ 2.6GHz',\n",
       "       'Intel Core i3 6100U 2.3GHz', 'AMD A10-Series 9620P 2.5GHz',\n",
       "       'AMD E-Series 7110 1.8GHz', 'Intel Celeron Dual Core N3350 2.0GHz',\n",
       "       'AMD A9-Series A9-9420 3GHz', 'Intel Core i7 6820HK 2.7GHz',\n",
       "       'Intel Core M 7Y30 1.0GHz', 'Intel Xeon E3-1535M v6 3.1GHz',\n",
       "       'Intel Celeron Quad Core N3160 1.6GHz',\n",
       "       'Intel Core i5 6300U 2.4GHz', 'Intel Core i3 6100U 2.1GHz',\n",
       "       'AMD E-Series E2-9000 2.2GHz',\n",
       "       'Intel Celeron Dual Core N3050 1.6GHz',\n",
       "       'Intel Core M M3-6Y30 0.9GHz', 'AMD A9-Series 9420 2.9GHz',\n",
       "       'Intel Core i5 6300HQ 2.3GHz', 'AMD A6-Series 7310 2GHz',\n",
       "       'Intel Atom Z8350 1.92GHz', 'Intel Xeon E3-1535M v5 2.9GHz',\n",
       "       'Intel Core i5 6260U 1.8GHz',\n",
       "       'Intel Pentium Dual Core N4200 1.1GHz',\n",
       "       'Intel Celeron Quad Core N3710 1.6GHz', 'Intel Core M 1.2GHz',\n",
       "       'AMD A12-Series 9700P 2.5GHz', 'Intel Core i7 7500U 2.5GHz',\n",
       "       'Intel Pentium Dual Core 4405U 2.1GHz',\n",
       "       'AMD A4-Series 7210 2.2GHz', 'Intel Core i7 6560U 2.2GHz',\n",
       "       'Intel Core M m7-6Y75 1.2GHz', 'AMD FX 8800P 2.1GHz',\n",
       "       'Intel Core M M7-6Y75 1.2GHz', 'Intel Core i5 7200U 2.50GHz',\n",
       "       'Intel Core i5 7200U 2.70GHz', 'Intel Atom X5-Z8350 1.44GHz',\n",
       "       'Intel Core i5 7200U 2.7GHz', 'Intel Core M 1.1GHz',\n",
       "       'Intel Pentium Dual Core 4405Y 1.5GHz',\n",
       "       'Intel Pentium Quad Core N3700 1.6GHz', 'Intel Core M 6Y54 1.1GHz',\n",
       "       'Intel Core i7 6500U 2.50GHz',\n",
       "       'Intel Celeron Dual Core N3350 2GHz',\n",
       "       'Samsung Cortex A72&A53 2.0GHz', 'AMD E-Series 9000 2.2GHz',\n",
       "       'Intel Core M 6Y30 0.9GHz', 'AMD A9-Series 9410 2.9GHz'],\n",
       "      dtype=object)"
      ]
     },
     "execution_count": 30,
     "metadata": {},
     "output_type": "execute_result"
    }
   ],
   "source": [
    "df['Cpu'].unique()"
   ]
  },
  {
   "cell_type": "code",
   "execution_count": 31,
   "id": "203357e0-9e9e-40aa-9884-e7e3102b56cc",
   "metadata": {},
   "outputs": [],
   "source": [
    "def cpu(x):\n",
    "    if 'Intel Core i5' in x or 'Intel Core i3' in x or \"Intel Core i7\" in x:\n",
    "        return x[0:13]\n",
    "    elif \"Intel\" in x:\n",
    "        return \"Other Intel Processor\"\n",
    "    elif \"AMD\" in x:\n",
    "        return \"AMD\"\n",
    "    else:\n",
    "        return \"Other\""
   ]
  },
  {
   "cell_type": "code",
   "execution_count": 32,
   "id": "160c0913-04cb-4114-8b7e-6ad7b3d6e45f",
   "metadata": {},
   "outputs": [],
   "source": [
    "df['Cpu'] = df.Cpu.apply(cpu)"
   ]
  },
  {
   "cell_type": "code",
   "execution_count": 33,
   "id": "588513cd-8f3f-4e0d-a2be-416433f3eee0",
   "metadata": {},
   "outputs": [
    {
     "data": {
      "image/png": "[encoded data removed]",
      "text/plain": [
       "<Figure size 640x480 with 1 Axes>"
      ]
     },
     "metadata": {},
     "output_type": "display_data"
    }
   ],
   "source": [
    "sns.barplot(x=df['Cpu'] , y=df['Price'])\n",
    "plt.xticks(rotation='vertical')\n",
    "plt.show()"
   ]
  },
  {
   "cell_type": "markdown",
   "id": "3551686c-6a36-4f1f-9a92-e6bc351ca60e",
   "metadata": {},
   "source": [
    "# Handling Ram Feature"
   ]
  },
  {
   "cell_type": "code",
   "execution_count": 34,
   "id": "9b7dcd62-75d4-4b1f-b236-5d50a2347c97",
   "metadata": {},
   "outputs": [
    {
     "data": {
      "text/plain": [
       "<Axes: xlabel='Ram', ylabel='Price'>"
      ]
     },
     "execution_count": 34,
     "metadata": {},
     "output_type": "execute_result"
    },
    {
     "data": {
      "image/png": "[encoded data removed]",
      "text/plain": [
       "<Figure size 640x480 with 1 Axes>"
      ]
     },
     "metadata": {},
     "output_type": "display_data"
    }
   ],
   "source": [
    "sns.barplot(x=df['Ram'] , y=df['Price'])"
   ]
  },
  {
   "cell_type": "code",
   "execution_count": 35,
   "id": "ddff4239-c3a9-4f65-ab55-5476139e69e4",
   "metadata": {},
   "outputs": [],
   "source": [
    "df['Ram']=df['Ram'].str.replace('GB','').astype(int)"
   ]
  },
  {
   "cell_type": "markdown",
   "id": "93a8a34f-480d-475d-a1f2-d10625da8ae8",
   "metadata": {},
   "source": [
    "# Handling Memory Feature"
   ]
  },
  {
   "cell_type": "code",
   "execution_count": 36,
   "id": "89deb7fc-441e-41b7-bfb1-165d4b66e908",
   "metadata": {},
   "outputs": [],
   "source": [
    "def ssd(x):\n",
    "    if \"SSD\" in x and \"+\" not in x:\n",
    "        return x.split(\" \")[0].replace(\"TB\" , \"000GB\").replace(\"GB\",\"\")\n",
    "    elif \"+\" in x and \"SSD\" in x:\n",
    "        a = x.split(\"+\")\n",
    "        if \"SSD\" in a[0]:\n",
    "            return a[0].split(\" \")[0].replace(\"TB\" , \"000GB\").replace(\"GB\",\"\")\n",
    "        elif  \"SSD\" in a[1]:\n",
    "            return a[1].split(\" \")[2].replace(\"TB\" , \"000GB\").replace(\"GB\",\"\")\n",
    "    else:\n",
    "        return 0\n",
    "def hdd(x):\n",
    "    if \"HDD\" in x and \"+\" not in x:\n",
    "        return x.split(\" \")[0].replace(\"TB\" , \"000GB\").replace(\"GB\",\"\")\n",
    "    elif \"+\" in x and \"HDD\" in x:\n",
    "        a = x.split(\"+\")\n",
    "        if \"HDD\" in a[0]:\n",
    "            return a[0].split(\" \")[0].replace(\"TB\" , \"000GB\").replace(\"GB\",\"\")\n",
    "        elif  \"HDD\" in a[1]:\n",
    "            return a[1].split(\" \")[2].replace(\"TB\" , \"000GB\").replace(\"GB\",\"\")\n",
    "    else:\n",
    "        return 0\n",
    "def hybrid(x):\n",
    "    if \"Hybrid\" in x and \"+\" not in x:\n",
    "        return x.split(\" \")[0].replace(\"TB\" , \"000GB\").replace(\"GB\",\"\")\n",
    "    elif \"+\" in x and \"Hybrid\" in x:\n",
    "        a = x.split(\"+\")\n",
    "        if \"Hybrid\" in a[0]:\n",
    "            return a[0].split(\" \")[0].replace(\"TB\" , \"000GB\").replace(\"GB\",\"\")\n",
    "        elif  \"Hybrid\" in a[1]:\n",
    "            return a[1].split(\" \")[2].replace(\"TB\" , \"000GB\").replace(\"GB\",\"\")\n",
    "    else:\n",
    "        return 0\n",
    "def flash(x):\n",
    "    if \"Flash Storage\" in x and \"+\" not in x:\n",
    "        return x.split(\" \")[0].replace(\"TB\" , \"000GB\").replace(\"GB\",\"\")\n",
    "    elif \"+\" in x and \"Flash Storage\" in x:\n",
    "        a = x.split(\"+\")\n",
    "        if \"Flash Storage\" in a[0]:\n",
    "            return a[0].split(\" \")[0].replace(\"TB\" , \"000GB\").replace(\"GB\",\"\")\n",
    "        elif  \"Flash Storage\" in a[1]:\n",
    "            return a[1].split(\" \")[2].replace(\"TB\" , \"000GB\").replace(\"GB\",\"\")\n",
    "    else:\n",
    "        return 0\n"
   ]
  },
  {
   "cell_type": "code",
   "execution_count": 37,
   "id": "e1673506-72d4-4575-a053-0ad759fe0587",
   "metadata": {},
   "outputs": [],
   "source": [
    "df['SSD'] = df.Memory.apply(ssd)\n",
    "df['HDD'] = df.Memory.apply(hdd)\n",
    "df['Hybrid'] = df.Memory.apply(hybrid)\n",
    "df['Flash'] = df.Memory.apply(flash)"
   ]
  },
  {
   "cell_type": "code",
   "execution_count": 38,
   "id": "507ad09f-1786-45c9-b65f-3c6f81d4c377",
   "metadata": {},
   "outputs": [],
   "source": [
    "df.drop(columns=['Memory'],inplace=True)"
   ]
  },
  {
   "cell_type": "markdown",
   "id": "ff3048f2-2b84-42e5-a0ac-c69c74429c20",
   "metadata": {},
   "source": [
    "# Handling GPU Feature"
   ]
  },
  {
   "cell_type": "code",
   "execution_count": 39,
   "id": "a92a21ee-3a1b-4619-9730-3fc3a31f0dc8",
   "metadata": {},
   "outputs": [
    {
     "data": {
      "text/plain": [
       "array(['Intel Iris Plus Graphics 640', 'Intel HD Graphics 6000',\n",
       "       'Intel HD Graphics 620', 'AMD Radeon Pro 455',\n",
       "       'Intel Iris Plus Graphics 650', 'AMD Radeon R5',\n",
       "       'Intel Iris Pro Graphics', 'Nvidia GeForce MX150',\n",
       "       'Intel UHD Graphics 620', 'Intel HD Graphics 520',\n",
       "       'AMD Radeon Pro 555', 'AMD Radeon R5 M430',\n",
       "       'Intel HD Graphics 615', 'AMD Radeon Pro 560',\n",
       "       'Nvidia GeForce 940MX', 'Intel HD Graphics 400',\n",
       "       'Nvidia GeForce GTX 1050', 'AMD Radeon R2', 'AMD Radeon 530',\n",
       "       'Nvidia GeForce 930MX', 'Intel HD Graphics',\n",
       "       'Intel HD Graphics 500', 'Nvidia GeForce 930MX ',\n",
       "       'Nvidia GeForce GTX 1060', 'Nvidia GeForce 150MX',\n",
       "       'Intel Iris Graphics 540', 'AMD Radeon RX 580',\n",
       "       'Nvidia GeForce 920MX', 'AMD Radeon R4 Graphics', 'AMD Radeon 520',\n",
       "       'Nvidia GeForce GTX 1070', 'Nvidia GeForce GTX 1050 Ti',\n",
       "       'Nvidia GeForce MX130', 'AMD R4 Graphics',\n",
       "       'Nvidia GeForce GTX 940MX', 'AMD Radeon RX 560',\n",
       "       'Nvidia GeForce 920M', 'AMD Radeon R7 M445', 'AMD Radeon RX 550',\n",
       "       'Nvidia GeForce GTX 1050M', 'Intel HD Graphics 515',\n",
       "       'AMD Radeon R5 M420', 'Intel HD Graphics 505',\n",
       "       'Nvidia GTX 980 SLI', 'AMD R17M-M1-70', 'Nvidia GeForce GTX 1080',\n",
       "       'Nvidia Quadro M1200', 'Nvidia GeForce 920MX ',\n",
       "       'Nvidia GeForce GTX 950M', 'AMD FirePro W4190M ',\n",
       "       'Nvidia GeForce GTX 980M', 'Intel Iris Graphics 550',\n",
       "       'Nvidia GeForce 930M', 'Intel HD Graphics 630',\n",
       "       'AMD Radeon R5 430', 'Nvidia GeForce GTX 940M',\n",
       "       'Intel HD Graphics 510', 'Intel HD Graphics 405',\n",
       "       'AMD Radeon RX 540', 'Nvidia GeForce GT 940MX',\n",
       "       'AMD FirePro W5130M', 'Nvidia Quadro M2200M', 'AMD Radeon R4',\n",
       "       'Nvidia Quadro M620', 'AMD Radeon R7 M460',\n",
       "       'Intel HD Graphics 530', 'Nvidia GeForce GTX 965M',\n",
       "       'Nvidia GeForce GTX1080', 'Nvidia GeForce GTX1050 Ti',\n",
       "       'Nvidia GeForce GTX 960M', 'AMD Radeon R2 Graphics',\n",
       "       'Nvidia Quadro M620M', 'Nvidia GeForce GTX 970M',\n",
       "       'Nvidia GeForce GTX 960<U+039C>', 'Intel Graphics 620',\n",
       "       'Nvidia GeForce GTX 960', 'AMD Radeon R5 520',\n",
       "       'AMD Radeon R7 M440', 'AMD Radeon R7', 'Nvidia Quadro M520M',\n",
       "       'Nvidia Quadro M2200', 'Nvidia Quadro M2000M',\n",
       "       'Intel HD Graphics 540', 'Nvidia Quadro M1000M', 'AMD Radeon 540',\n",
       "       'Nvidia GeForce GTX 1070M', 'Nvidia GeForce GTX1060',\n",
       "       'Intel HD Graphics 5300', 'AMD Radeon R5 M420X',\n",
       "       'AMD Radeon R7 Graphics', 'Nvidia GeForce 920',\n",
       "       'Nvidia GeForce 940M', 'Nvidia GeForce GTX 930MX',\n",
       "       'AMD Radeon R7 M465', 'AMD Radeon R3', 'Nvidia GeForce GTX 1050Ti',\n",
       "       'AMD Radeon R7 M365X', 'AMD Radeon R9 M385',\n",
       "       'Intel HD Graphics 620 ', 'Nvidia Quadro 3000M',\n",
       "       'Nvidia GeForce GTX 980 ', 'AMD Radeon R5 M330',\n",
       "       'AMD FirePro W4190M', 'AMD FirePro W6150M', 'AMD Radeon R5 M315',\n",
       "       'Nvidia Quadro M500M', 'AMD Radeon R7 M360',\n",
       "       'Nvidia Quadro M3000M', 'Nvidia GeForce 960M', 'ARM Mali T860 MP4'],\n",
       "      dtype=object)"
      ]
     },
     "execution_count": 39,
     "metadata": {},
     "output_type": "execute_result"
    }
   ],
   "source": [
    "df.Gpu.unique()"
   ]
  },
  {
   "cell_type": "code",
   "execution_count": 40,
   "id": "7ff831e3-78c1-46ec-8a2d-0769291a1eea",
   "metadata": {},
   "outputs": [],
   "source": [
    "df['GPU Brand'] = df['Gpu'].str.split(\" \").apply(lambda x : x[0])"
   ]
  },
  {
   "cell_type": "code",
   "execution_count": 41,
   "id": "ce86eca8-4220-4a4c-bddd-8f6b7a294b0d",
   "metadata": {},
   "outputs": [
    {
     "data": {
      "text/plain": [
       "GPU Brand\n",
       "Intel     703\n",
       "Nvidia    396\n",
       "AMD       174\n",
       "ARM         1\n",
       "Name: count, dtype: int64"
      ]
     },
     "execution_count": 41,
     "metadata": {},
     "output_type": "execute_result"
    }
   ],
   "source": [
    "df['GPU Brand'].value_counts()"
   ]
  },
  {
   "cell_type": "code",
   "execution_count": 42,
   "id": "297b549a-c208-4c25-a7f0-6f516e433225",
   "metadata": {},
   "outputs": [],
   "source": [
    "df = df[df['GPU Brand'] != 'ARM']\n"
   ]
  },
  {
   "cell_type": "code",
   "execution_count": 43,
   "id": "cc5013b1-5bb8-4bb3-8b97-d3cc4327354f",
   "metadata": {},
   "outputs": [
    {
     "data": {
      "text/plain": [
       "<Axes: xlabel='GPU Brand', ylabel='Price'>"
      ]
     },
     "execution_count": 43,
     "metadata": {},
     "output_type": "execute_result"
    },
    {
     "data": {
      "image/png": "[encoded data removed]",
      "text/plain": [
       "<Figure size 640x480 with 1 Axes>"
      ]
     },
     "metadata": {},
     "output_type": "display_data"
    }
   ],
   "source": [
    "sns.barplot(x=df['GPU Brand'] , y =df['Price'])"
   ]
  },
  {
   "cell_type": "code",
   "execution_count": 44,
   "id": "00aae375-1b82-4363-bf25-f6dd9f4fcd3a",
   "metadata": {},
   "outputs": [
    {
     "name": "stderr",
     "output_type": "stream",
     "text": [
      "C:\\Users\\vedan\\AppData\\Local\\Temp\\ipykernel_19088\\4269870662.py:1: SettingWithCopyWarning: \n",
      "A value is trying to be set on a copy of a slice from a DataFrame\n",
      "\n",
      "See the caveats in the documentation: https://pandas.pydata.org/pandas-docs/stable/user_guide/indexing.html#returning-a-view-versus-a-copy\n",
      "  df.drop(['Gpu'] , axis=1 , inplace=True)\n"
     ]
    }
   ],
   "source": [
    "df.drop(['Gpu'] , axis=1 , inplace=True)"
   ]
  },
  {
   "cell_type": "code",
   "execution_count": 45,
   "id": "7ed414bf-a956-4dfc-a825-73029e141597",
   "metadata": {},
   "outputs": [
    {
     "data": {
      "text/html": [
       "<div>\n",
       "<style scoped>\n",
       "    .dataframe tbody tr th:only-of-type {\n",
       "        vertical-align: middle;\n",
       "    }\n",
       "\n",
       "    .dataframe tbody tr th {\n",
       "        vertical-align: top;\n",
       "    }\n",
       "\n",
       "    .dataframe thead th {\n",
       "        text-align: right;\n",
       "    }\n",
       "</style>\n",
       "<table border=\"1\" class=\"dataframe\">\n",
       "  <thead>\n",
       "    <tr style=\"text-align: right;\">\n",
       "      <th></th>\n",
       "      <th>Company</th>\n",
       "      <th>TypeName</th>\n",
       "      <th>Cpu</th>\n",
       "      <th>Ram</th>\n",
       "      <th>OpSys</th>\n",
       "      <th>Weight</th>\n",
       "      <th>Price</th>\n",
       "      <th>Touchscreen</th>\n",
       "      <th>Ips</th>\n",
       "      <th>ppi</th>\n",
       "      <th>SSD</th>\n",
       "      <th>HDD</th>\n",
       "      <th>Hybrid</th>\n",
       "      <th>Flash</th>\n",
       "      <th>GPU Brand</th>\n",
       "    </tr>\n",
       "  </thead>\n",
       "  <tbody>\n",
       "    <tr>\n",
       "      <th>0</th>\n",
       "      <td>Apple</td>\n",
       "      <td>Ultrabook</td>\n",
       "      <td>Intel Core i5</td>\n",
       "      <td>8</td>\n",
       "      <td>macOS</td>\n",
       "      <td>1.37kg</td>\n",
       "      <td>71378.6832</td>\n",
       "      <td>0</td>\n",
       "      <td>1</td>\n",
       "      <td>226.983005</td>\n",
       "      <td>128</td>\n",
       "      <td>0</td>\n",
       "      <td>0</td>\n",
       "      <td>0</td>\n",
       "      <td>Intel</td>\n",
       "    </tr>\n",
       "    <tr>\n",
       "      <th>1</th>\n",
       "      <td>Apple</td>\n",
       "      <td>Ultrabook</td>\n",
       "      <td>Intel Core i5</td>\n",
       "      <td>8</td>\n",
       "      <td>macOS</td>\n",
       "      <td>1.34kg</td>\n",
       "      <td>47895.5232</td>\n",
       "      <td>0</td>\n",
       "      <td>0</td>\n",
       "      <td>127.677940</td>\n",
       "      <td>0</td>\n",
       "      <td>0</td>\n",
       "      <td>0</td>\n",
       "      <td>128</td>\n",
       "      <td>Intel</td>\n",
       "    </tr>\n",
       "    <tr>\n",
       "      <th>2</th>\n",
       "      <td>HP</td>\n",
       "      <td>Notebook</td>\n",
       "      <td>Intel Core i5</td>\n",
       "      <td>8</td>\n",
       "      <td>No OS</td>\n",
       "      <td>1.86kg</td>\n",
       "      <td>30636.0000</td>\n",
       "      <td>0</td>\n",
       "      <td>0</td>\n",
       "      <td>141.211998</td>\n",
       "      <td>256</td>\n",
       "      <td>0</td>\n",
       "      <td>0</td>\n",
       "      <td>0</td>\n",
       "      <td>Intel</td>\n",
       "    </tr>\n",
       "    <tr>\n",
       "      <th>3</th>\n",
       "      <td>Apple</td>\n",
       "      <td>Ultrabook</td>\n",
       "      <td>Intel Core i7</td>\n",
       "      <td>16</td>\n",
       "      <td>macOS</td>\n",
       "      <td>1.83kg</td>\n",
       "      <td>135195.3360</td>\n",
       "      <td>0</td>\n",
       "      <td>1</td>\n",
       "      <td>220.534624</td>\n",
       "      <td>512</td>\n",
       "      <td>0</td>\n",
       "      <td>0</td>\n",
       "      <td>0</td>\n",
       "      <td>AMD</td>\n",
       "    </tr>\n",
       "    <tr>\n",
       "      <th>4</th>\n",
       "      <td>Apple</td>\n",
       "      <td>Ultrabook</td>\n",
       "      <td>Intel Core i5</td>\n",
       "      <td>8</td>\n",
       "      <td>macOS</td>\n",
       "      <td>1.37kg</td>\n",
       "      <td>96095.8080</td>\n",
       "      <td>0</td>\n",
       "      <td>1</td>\n",
       "      <td>226.983005</td>\n",
       "      <td>256</td>\n",
       "      <td>0</td>\n",
       "      <td>0</td>\n",
       "      <td>0</td>\n",
       "      <td>Intel</td>\n",
       "    </tr>\n",
       "  </tbody>\n",
       "</table>\n",
       "</div>"
      ],
      "text/plain": [
       "  Company   TypeName            Cpu  Ram  OpSys  Weight        Price  \\\n",
       "0   Apple  Ultrabook  Intel Core i5    8  macOS  1.37kg   71378.6832   \n",
       "1   Apple  Ultrabook  Intel Core i5    8  macOS  1.34kg   47895.5232   \n",
       "2      HP   Notebook  Intel Core i5    8  No OS  1.86kg   30636.0000   \n",
       "3   Apple  Ultrabook  Intel Core i7   16  macOS  1.83kg  135195.3360   \n",
       "4   Apple  Ultrabook  Intel Core i5    8  macOS  1.37kg   96095.8080   \n",
       "\n",
       "   Touchscreen  Ips         ppi  SSD HDD Hybrid Flash GPU Brand  \n",
       "0            0    1  226.983005  128   0      0     0     Intel  \n",
       "1            0    0  127.677940    0   0      0   128     Intel  \n",
       "2            0    0  141.211998  256   0      0     0     Intel  \n",
       "3            0    1  220.534624  512   0      0     0       AMD  \n",
       "4            0    1  226.983005  256   0      0     0     Intel  "
      ]
     },
     "execution_count": 45,
     "metadata": {},
     "output_type": "execute_result"
    }
   ],
   "source": [
    "df.head()"
   ]
  },
  {
   "cell_type": "markdown",
   "id": "ad50721d-3af0-4540-923e-ef05be4567e1",
   "metadata": {},
   "source": [
    "# Handling OS"
   ]
  },
  {
   "cell_type": "code",
   "execution_count": 46,
   "id": "2dc2a705-43b2-4e1c-b094-bd0b268cfeb9",
   "metadata": {},
   "outputs": [
    {
     "data": {
      "text/plain": [
       "OpSys\n",
       "Windows 10      1047\n",
       "No OS             66\n",
       "Linux             58\n",
       "Windows 7         45\n",
       "Chrome OS         26\n",
       "macOS             13\n",
       "Mac OS X           8\n",
       "Windows 10 S       8\n",
       "Android            2\n",
       "Name: count, dtype: int64"
      ]
     },
     "execution_count": 46,
     "metadata": {},
     "output_type": "execute_result"
    }
   ],
   "source": [
    "df['OpSys'].value_counts()"
   ]
  },
  {
   "cell_type": "code",
   "execution_count": 47,
   "id": "73235c65-88a1-46c2-ad0d-b8ebb22c5c64",
   "metadata": {},
   "outputs": [
    {
     "data": {
      "image/png": "[encoded data removed]",
      "text/plain": [
       "<Figure size 640x480 with 1 Axes>"
      ]
     },
     "metadata": {},
     "output_type": "display_data"
    }
   ],
   "source": [
    "sns.barplot(x=df['OpSys'] , y=df['Price'])\n",
    "plt.xticks(rotation = 45)\n",
    "plt.show()"
   ]
  },
  {
   "cell_type": "code",
   "execution_count": 48,
   "id": "89228250-312c-498e-ad18-7d0c44face4c",
   "metadata": {},
   "outputs": [],
   "source": [
    "def os(x):\n",
    "    if x == 'Windows 10' or x == 'Windows 7' or x == 'Windows 10 S':\n",
    "        return 'Windows'\n",
    "    elif x == 'macOS' or x == 'Mac OS X':\n",
    "        return 'Mac'\n",
    "    elif x== 'Linux':\n",
    "        return 'Linux'\n",
    "    else : \n",
    "        return 'Other'"
   ]
  },
  {
   "cell_type": "code",
   "execution_count": 49,
   "id": "855bb1ff-c727-45be-a97e-15a0bc40cda5",
   "metadata": {},
   "outputs": [
    {
     "name": "stderr",
     "output_type": "stream",
     "text": [
      "C:\\Users\\vedan\\AppData\\Local\\Temp\\ipykernel_19088\\142846014.py:1: SettingWithCopyWarning: \n",
      "A value is trying to be set on a copy of a slice from a DataFrame.\n",
      "Try using .loc[row_indexer,col_indexer] = value instead\n",
      "\n",
      "See the caveats in the documentation: https://pandas.pydata.org/pandas-docs/stable/user_guide/indexing.html#returning-a-view-versus-a-copy\n",
      "  df['OpSys']= df['OpSys'].apply(lambda x : os(x))\n"
     ]
    }
   ],
   "source": [
    "df['OpSys']= df['OpSys'].apply(lambda x : os(x))"
   ]
  },
  {
   "cell_type": "code",
   "execution_count": 50,
   "id": "35bdc630-1af2-45d1-832d-846bc23a782c",
   "metadata": {},
   "outputs": [
    {
     "data": {
      "text/plain": [
       "<Axes: xlabel='OpSys', ylabel='Price'>"
      ]
     },
     "execution_count": 50,
     "metadata": {},
     "output_type": "execute_result"
    },
    {
     "data": {
      "image/png": "[encoded data removed]",
      "text/plain": [
       "<Figure size 640x480 with 1 Axes>"
      ]
     },
     "metadata": {},
     "output_type": "display_data"
    }
   ],
   "source": [
    "sns.barplot(x=df['OpSys'] , y=df['Price'])"
   ]
  },
  {
   "cell_type": "markdown",
   "id": "e1ccb01a-83f1-4982-ba5d-8de43858fbfd",
   "metadata": {},
   "source": [
    "# Handling Weight Feature"
   ]
  },
  {
   "cell_type": "code",
   "execution_count": 51,
   "id": "4cb14cee-9c5b-489f-9e11-5f804b416a92",
   "metadata": {},
   "outputs": [
    {
     "name": "stderr",
     "output_type": "stream",
     "text": [
      "C:\\Users\\vedan\\AppData\\Local\\Temp\\ipykernel_19088\\3989937749.py:1: SettingWithCopyWarning: \n",
      "A value is trying to be set on a copy of a slice from a DataFrame.\n",
      "Try using .loc[row_indexer,col_indexer] = value instead\n",
      "\n",
      "See the caveats in the documentation: https://pandas.pydata.org/pandas-docs/stable/user_guide/indexing.html#returning-a-view-versus-a-copy\n",
      "  df['Weight'] = df['Weight'].str.replace('kg','').astype(float)\n"
     ]
    }
   ],
   "source": [
    "df['Weight'] = df['Weight'].str.replace('kg','').astype(float)"
   ]
  },
  {
   "cell_type": "code",
   "execution_count": 52,
   "id": "03e6272d-f8bf-4da6-a67f-8952c52932dd",
   "metadata": {},
   "outputs": [
    {
     "name": "stdout",
     "output_type": "stream",
     "text": [
      "<class 'pandas.core.frame.DataFrame'>\n",
      "Index: 1273 entries, 0 to 1273\n",
      "Data columns (total 15 columns):\n",
      " #   Column       Non-Null Count  Dtype  \n",
      "---  ------       --------------  -----  \n",
      " 0   Company      1273 non-null   object \n",
      " 1   TypeName     1273 non-null   object \n",
      " 2   Cpu          1273 non-null   object \n",
      " 3   Ram          1273 non-null   int32  \n",
      " 4   OpSys        1273 non-null   object \n",
      " 5   Weight       1273 non-null   float64\n",
      " 6   Price        1273 non-null   float64\n",
      " 7   Touchscreen  1273 non-null   int64  \n",
      " 8   Ips          1273 non-null   int64  \n",
      " 9   ppi          1273 non-null   float64\n",
      " 10  SSD          1273 non-null   object \n",
      " 11  HDD          1273 non-null   object \n",
      " 12  Hybrid       1273 non-null   object \n",
      " 13  Flash        1273 non-null   object \n",
      " 14  GPU Brand    1273 non-null   object \n",
      "dtypes: float64(3), int32(1), int64(2), object(9)\n",
      "memory usage: 154.2+ KB\n"
     ]
    }
   ],
   "source": [
    "df.info()"
   ]
  },
  {
   "cell_type": "code",
   "execution_count": 53,
   "id": "e3aa7052-bd12-414d-91dd-39d3234d93ad",
   "metadata": {},
   "outputs": [
    {
     "data": {
      "text/html": [
       "<div>\n",
       "<style scoped>\n",
       "    .dataframe tbody tr th:only-of-type {\n",
       "        vertical-align: middle;\n",
       "    }\n",
       "\n",
       "    .dataframe tbody tr th {\n",
       "        vertical-align: top;\n",
       "    }\n",
       "\n",
       "    .dataframe thead th {\n",
       "        text-align: right;\n",
       "    }\n",
       "</style>\n",
       "<table border=\"1\" class=\"dataframe\">\n",
       "  <thead>\n",
       "    <tr style=\"text-align: right;\">\n",
       "      <th></th>\n",
       "      <th>Company</th>\n",
       "      <th>TypeName</th>\n",
       "      <th>Cpu</th>\n",
       "      <th>Ram</th>\n",
       "      <th>OpSys</th>\n",
       "      <th>Weight</th>\n",
       "      <th>Price</th>\n",
       "      <th>Touchscreen</th>\n",
       "      <th>Ips</th>\n",
       "      <th>ppi</th>\n",
       "      <th>SSD</th>\n",
       "      <th>HDD</th>\n",
       "      <th>Hybrid</th>\n",
       "      <th>Flash</th>\n",
       "      <th>GPU Brand</th>\n",
       "    </tr>\n",
       "  </thead>\n",
       "  <tbody>\n",
       "    <tr>\n",
       "      <th>0</th>\n",
       "      <td>Apple</td>\n",
       "      <td>Ultrabook</td>\n",
       "      <td>Intel Core i5</td>\n",
       "      <td>8</td>\n",
       "      <td>Mac</td>\n",
       "      <td>1.37</td>\n",
       "      <td>71378.6832</td>\n",
       "      <td>0</td>\n",
       "      <td>1</td>\n",
       "      <td>226.983005</td>\n",
       "      <td>128</td>\n",
       "      <td>0</td>\n",
       "      <td>0</td>\n",
       "      <td>0</td>\n",
       "      <td>Intel</td>\n",
       "    </tr>\n",
       "  </tbody>\n",
       "</table>\n",
       "</div>"
      ],
      "text/plain": [
       "  Company   TypeName            Cpu  Ram OpSys  Weight       Price  \\\n",
       "0   Apple  Ultrabook  Intel Core i5    8   Mac    1.37  71378.6832   \n",
       "\n",
       "   Touchscreen  Ips         ppi  SSD HDD Hybrid Flash GPU Brand  \n",
       "0            0    1  226.983005  128   0      0     0     Intel  "
      ]
     },
     "execution_count": 53,
     "metadata": {},
     "output_type": "execute_result"
    }
   ],
   "source": [
    "df.head(1)"
   ]
  },
  {
   "cell_type": "code",
   "execution_count": 54,
   "id": "df336801-9d82-40ef-aec5-9abc4fa73264",
   "metadata": {},
   "outputs": [
    {
     "name": "stderr",
     "output_type": "stream",
     "text": [
      "C:\\Users\\vedan\\AppData\\Local\\Temp\\ipykernel_19088\\3866395374.py:1: SettingWithCopyWarning: \n",
      "A value is trying to be set on a copy of a slice from a DataFrame\n",
      "\n",
      "See the caveats in the documentation: https://pandas.pydata.org/pandas-docs/stable/user_guide/indexing.html#returning-a-view-versus-a-copy\n",
      "  df.drop(columns=['Hybrid' , 'Flash'] , inplace=True)\n"
     ]
    }
   ],
   "source": [
    "df.drop(columns=['Hybrid' , 'Flash'] , inplace=True)"
   ]
  },
  {
   "cell_type": "code",
   "execution_count": 55,
   "id": "954a25bb-e72d-47ce-bb3d-78e8ad66447b",
   "metadata": {},
   "outputs": [
    {
     "data": {
      "text/html": [
       "<div>\n",
       "<style scoped>\n",
       "    .dataframe tbody tr th:only-of-type {\n",
       "        vertical-align: middle;\n",
       "    }\n",
       "\n",
       "    .dataframe tbody tr th {\n",
       "        vertical-align: top;\n",
       "    }\n",
       "\n",
       "    .dataframe thead th {\n",
       "        text-align: right;\n",
       "    }\n",
       "</style>\n",
       "<table border=\"1\" class=\"dataframe\">\n",
       "  <thead>\n",
       "    <tr style=\"text-align: right;\">\n",
       "      <th></th>\n",
       "      <th>Company</th>\n",
       "      <th>TypeName</th>\n",
       "      <th>Cpu</th>\n",
       "      <th>Ram</th>\n",
       "      <th>OpSys</th>\n",
       "      <th>Weight</th>\n",
       "      <th>Price</th>\n",
       "      <th>Touchscreen</th>\n",
       "      <th>Ips</th>\n",
       "      <th>ppi</th>\n",
       "      <th>SSD</th>\n",
       "      <th>HDD</th>\n",
       "      <th>GPU Brand</th>\n",
       "    </tr>\n",
       "  </thead>\n",
       "  <tbody>\n",
       "    <tr>\n",
       "      <th>0</th>\n",
       "      <td>Apple</td>\n",
       "      <td>Ultrabook</td>\n",
       "      <td>Intel Core i5</td>\n",
       "      <td>8</td>\n",
       "      <td>Mac</td>\n",
       "      <td>1.37</td>\n",
       "      <td>71378.6832</td>\n",
       "      <td>0</td>\n",
       "      <td>1</td>\n",
       "      <td>226.983005</td>\n",
       "      <td>128</td>\n",
       "      <td>0</td>\n",
       "      <td>Intel</td>\n",
       "    </tr>\n",
       "  </tbody>\n",
       "</table>\n",
       "</div>"
      ],
      "text/plain": [
       "  Company   TypeName            Cpu  Ram OpSys  Weight       Price  \\\n",
       "0   Apple  Ultrabook  Intel Core i5    8   Mac    1.37  71378.6832   \n",
       "\n",
       "   Touchscreen  Ips         ppi  SSD HDD GPU Brand  \n",
       "0            0    1  226.983005  128   0     Intel  "
      ]
     },
     "execution_count": 55,
     "metadata": {},
     "output_type": "execute_result"
    }
   ],
   "source": [
    "df.head(1)"
   ]
  },
  {
   "cell_type": "code",
   "execution_count": 56,
   "id": "7a544fab-4464-459d-ba98-2b08e8247bbe",
   "metadata": {},
   "outputs": [],
   "source": [
    "df.to_csv('lp.csv',index=False)"
   ]
  },
  {
   "cell_type": "markdown",
   "id": "652dfb82-1c26-476f-8c5a-16b40697452d",
   "metadata": {},
   "source": [
    "# Train Test Split"
   ]
  },
  {
   "cell_type": "code",
   "execution_count": 57,
   "id": "be375869-62ba-4753-9840-5dd86ca11ed4",
   "metadata": {},
   "outputs": [],
   "source": [
    "x = df.drop('Price' , axis =1 )\n",
    "y = np.log(df.Price)"
   ]
  },
  {
   "cell_type": "code",
   "execution_count": 58,
   "id": "5f73e2cf-ae06-447f-a2f6-27802279254f",
   "metadata": {},
   "outputs": [],
   "source": [
    "from sklearn.model_selection import train_test_split\n",
    "x_train , x_test , y_train , y_test = train_test_split(x,y,test_size=0.20,random_state=42)"
   ]
  },
  {
   "cell_type": "markdown",
   "id": "6ebaa6a8-2e1c-48b7-918b-425c8045b8d6",
   "metadata": {},
   "source": [
    "# Model Training"
   ]
  },
  {
   "cell_type": "code",
   "execution_count": 61,
   "id": "0f0e557d-dfeb-4661-a0fd-0fc2fff4cb0f",
   "metadata": {},
   "outputs": [
    {
     "data": {
      "text/html": [
       "<div>\n",
       "<style scoped>\n",
       "    .dataframe tbody tr th:only-of-type {\n",
       "        vertical-align: middle;\n",
       "    }\n",
       "\n",
       "    .dataframe tbody tr th {\n",
       "        vertical-align: top;\n",
       "    }\n",
       "\n",
       "    .dataframe thead th {\n",
       "        text-align: right;\n",
       "    }\n",
       "</style>\n",
       "<table border=\"1\" class=\"dataframe\">\n",
       "  <thead>\n",
       "    <tr style=\"text-align: right;\">\n",
       "      <th></th>\n",
       "      <th>Company</th>\n",
       "      <th>TypeName</th>\n",
       "      <th>Cpu</th>\n",
       "      <th>Ram</th>\n",
       "      <th>OpSys</th>\n",
       "      <th>Weight</th>\n",
       "      <th>Price</th>\n",
       "      <th>Touchscreen</th>\n",
       "      <th>Ips</th>\n",
       "      <th>ppi</th>\n",
       "      <th>SSD</th>\n",
       "      <th>HDD</th>\n",
       "      <th>GPU Brand</th>\n",
       "    </tr>\n",
       "  </thead>\n",
       "  <tbody>\n",
       "    <tr>\n",
       "      <th>0</th>\n",
       "      <td>Apple</td>\n",
       "      <td>Ultrabook</td>\n",
       "      <td>Intel Core i5</td>\n",
       "      <td>8</td>\n",
       "      <td>Mac</td>\n",
       "      <td>1.37</td>\n",
       "      <td>71378.6832</td>\n",
       "      <td>0</td>\n",
       "      <td>1</td>\n",
       "      <td>226.983005</td>\n",
       "      <td>128</td>\n",
       "      <td>0</td>\n",
       "      <td>Intel</td>\n",
       "    </tr>\n",
       "  </tbody>\n",
       "</table>\n",
       "</div>"
      ],
      "text/plain": [
       "  Company   TypeName            Cpu  Ram OpSys  Weight       Price  \\\n",
       "0   Apple  Ultrabook  Intel Core i5    8   Mac    1.37  71378.6832   \n",
       "\n",
       "   Touchscreen  Ips         ppi  SSD HDD GPU Brand  \n",
       "0            0    1  226.983005  128   0     Intel  "
      ]
     },
     "execution_count": 61,
     "metadata": {},
     "output_type": "execute_result"
    }
   ],
   "source": [
    "df.head(1)"
   ]
  },
  {
   "cell_type": "code",
   "execution_count": 62,
   "id": "bd450b91-3031-4ba3-8947-a47b33a40613",
   "metadata": {},
   "outputs": [],
   "source": [
    "from sklearn.model_selection import train_test_split\n",
    "from sklearn.compose import ColumnTransformer\n",
    "from sklearn.preprocessing import OneHotEncoder , StandardScaler\n",
    "from sklearn.pipeline import Pipeline\n",
    "from sklearn.model_selection import cross_val_score\n",
    "from sklearn.linear_model import LinearRegression , Ridge \n",
    "from sklearn.neighbors import KNeighborsRegressor\n",
    "from sklearn.svm import SVR\n",
    "from sklearn.ensemble import RandomForestRegressor , VotingRegressor , GradientBoostingRegressor\n",
    "from sklearn.tree import DecisionTreeRegressor\n",
    "from xgboost import XGBRegressor\n",
    "from lightgbm import LGBMRegressor\n",
    "from sklearn.metrics import r2_score"
   ]
  },
  {
   "cell_type": "code",
   "execution_count": 63,
   "id": "a100e4c0-3b28-45c3-8c8e-be8dc4a7ee31",
   "metadata": {},
   "outputs": [],
   "source": [
    "\n",
    "cate = [df['Company'].unique(), df['TypeName'].unique(), df['Cpu'].unique(), df['OpSys'].unique(), df['GPU Brand'].unique()]"
   ]
  },
  {
   "cell_type": "code",
   "execution_count": 64,
   "id": "2f85ee29-4d38-4585-bf98-5624a547f895",
   "metadata": {},
   "outputs": [],
   "source": [
    "col1 = ColumnTransformer(transformers=[('encode' , OneHotEncoder(drop = \"first\" , handle_unknown='ignore', categories=cate),\n",
    "                                       [0,1,2,4,11])] , remainder = 'passthrough')"
   ]
  },
  {
   "cell_type": "code",
   "execution_count": null,
   "id": "56ce37fd-ef1e-496c-81e4-afbf71be3f53",
   "metadata": {},
   "outputs": [],
   "source": []
  },
  {
   "cell_type": "code",
   "execution_count": 65,
   "id": "5e62df12-f824-49de-89fb-bbd187d6587f",
   "metadata": {},
   "outputs": [],
   "source": [
    "from sklearn.preprocessing import StandardScaler\n",
    "col2 = ColumnTransformer(transformers=[('scale' , StandardScaler() , slice(0,30))])"
   ]
  },
  {
   "cell_type": "code",
   "execution_count": 66,
   "id": "d5af827d-6aa8-4640-bc2f-21097cd2c24f",
   "metadata": {},
   "outputs": [
    {
     "data": {
      "text/html": [
       "<div>\n",
       "<style scoped>\n",
       "    .dataframe tbody tr th:only-of-type {\n",
       "        vertical-align: middle;\n",
       "    }\n",
       "\n",
       "    .dataframe tbody tr th {\n",
       "        vertical-align: top;\n",
       "    }\n",
       "\n",
       "    .dataframe thead th {\n",
       "        text-align: right;\n",
       "    }\n",
       "</style>\n",
       "<table border=\"1\" class=\"dataframe\">\n",
       "  <thead>\n",
       "    <tr style=\"text-align: right;\">\n",
       "      <th></th>\n",
       "      <th>Company</th>\n",
       "      <th>TypeName</th>\n",
       "      <th>Cpu</th>\n",
       "      <th>Ram</th>\n",
       "      <th>OpSys</th>\n",
       "      <th>Weight</th>\n",
       "      <th>Touchscreen</th>\n",
       "      <th>Ips</th>\n",
       "      <th>ppi</th>\n",
       "      <th>SSD</th>\n",
       "      <th>HDD</th>\n",
       "      <th>GPU Brand</th>\n",
       "    </tr>\n",
       "  </thead>\n",
       "  <tbody>\n",
       "    <tr>\n",
       "      <th>490</th>\n",
       "      <td>Lenovo</td>\n",
       "      <td>Notebook</td>\n",
       "      <td>Intel Core i5</td>\n",
       "      <td>8</td>\n",
       "      <td>Windows</td>\n",
       "      <td>2.3</td>\n",
       "      <td>0</td>\n",
       "      <td>1</td>\n",
       "      <td>141.211998</td>\n",
       "      <td>256</td>\n",
       "      <td>0</td>\n",
       "      <td>Nvidia</td>\n",
       "    </tr>\n",
       "  </tbody>\n",
       "</table>\n",
       "</div>"
      ],
      "text/plain": [
       "    Company  TypeName            Cpu  Ram    OpSys  Weight  Touchscreen  Ips  \\\n",
       "490  Lenovo  Notebook  Intel Core i5    8  Windows     2.3            0    1   \n",
       "\n",
       "            ppi  SSD HDD GPU Brand  \n",
       "490  141.211998  256   0    Nvidia  "
      ]
     },
     "execution_count": 66,
     "metadata": {},
     "output_type": "execute_result"
    }
   ],
   "source": [
    "x_train.head(1)"
   ]
  },
  {
   "cell_type": "code",
   "execution_count": 67,
   "id": "c29cef77-69be-42ad-8013-f59bfcfc92ee",
   "metadata": {},
   "outputs": [],
   "source": [
    "gd = GradientBoostingRegressor(n_estimators=500, min_samples_split=5, min_samples_leaf=2)\n"
   ]
  },
  {
   "cell_type": "code",
   "execution_count": 68,
   "id": "32b5c623-2880-4b05-820d-b81585e17997",
   "metadata": {},
   "outputs": [],
   "source": [
    "from sklearn.pipeline import Pipeline"
   ]
  },
  {
   "cell_type": "code",
   "execution_count": 69,
   "id": "1025940a-736a-433d-9d43-311f182c39f2",
   "metadata": {},
   "outputs": [],
   "source": [
    "from sklearn.pipeline import Pipeline\n",
    "pipe = Pipeline([\n",
    "    ('step1', col1),\n",
    "    ('step2', col2),\n",
    "    ('step3', gd)\n",
    "])"
   ]
  },
  {
   "cell_type": "code",
   "execution_count": 70,
   "id": "f3b2a96f-9577-4358-b823-a66ef9058b24",
   "metadata": {},
   "outputs": [
    {
     "data": {
      "text/html": [
       "<style>#sk-container-id-1 {\n",
       "  /* Definition of color scheme common for light and dark mode */\n",
       "  --sklearn-color-text: black;\n",
       "  --sklearn-color-line: gray;\n",
       "  /* Definition of color scheme for unfitted estimators */\n",
       "  --sklearn-color-unfitted-level-0: #fff5e6;\n",
       "  --sklearn-color-unfitted-level-1: #f6e4d2;\n",
       "  --sklearn-color-unfitted-level-2: #ffe0b3;\n",
       "  --sklearn-color-unfitted-level-3: chocolate;\n",
       "  /* Definition of color scheme for fitted estimators */\n",
       "  --sklearn-color-fitted-level-0: #f0f8ff;\n",
       "  --sklearn-color-fitted-level-1: #d4ebff;\n",
       "  --sklearn-color-fitted-level-2: #b3dbfd;\n",
       "  --sklearn-color-fitted-level-3: cornflowerblue;\n",
       "\n",
       "  /* Specific color for light theme */\n",
       "  --sklearn-color-text-on-default-background: var(--sg-text-color, var(--theme-code-foreground, var(--jp-content-font-color1, black)));\n",
       "  --sklearn-color-background: var(--sg-background-color, var(--theme-background, var(--jp-layout-color0, white)));\n",
       "  --sklearn-color-border-box: var(--sg-text-color, var(--theme-code-foreground, var(--jp-content-font-color1, black)));\n",
       "  --sklearn-color-icon: #696969;\n",
       "\n",
       "  @media (prefers-color-scheme: dark) {\n",
       "    /* Redefinition of color scheme for dark theme */\n",
       "    --sklearn-color-text-on-default-background: var(--sg-text-color, var(--theme-code-foreground, var(--jp-content-font-color1, white)));\n",
       "    --sklearn-color-background: var(--sg-background-color, var(--theme-background, var(--jp-layout-color0, #111)));\n",
       "    --sklearn-color-border-box: var(--sg-text-color, var(--theme-code-foreground, var(--jp-content-font-color1, white)));\n",
       "    --sklearn-color-icon: #878787;\n",
       "  }\n",
       "}\n",
       "\n",
       "#sk-container-id-1 {\n",
       "  color: var(--sklearn-color-text);\n",
       "}\n",
       "\n",
       "#sk-container-id-1 pre {\n",
       "  padding: 0;\n",
       "}\n",
       "\n",
       "#sk-container-id-1 input.sk-hidden--visually {\n",
       "  border: 0;\n",
       "  clip: rect(1px 1px 1px 1px);\n",
       "  clip: rect(1px, 1px, 1px, 1px);\n",
       "  height: 1px;\n",
       "  margin: -1px;\n",
       "  overflow: hidden;\n",
       "  padding: 0;\n",
       "  position: absolute;\n",
       "  width: 1px;\n",
       "}\n",
       "\n",
       "#sk-container-id-1 div.sk-dashed-wrapped {\n",
       "  border: 1px dashed var(--sklearn-color-line);\n",
       "  margin: 0 0.4em 0.5em 0.4em;\n",
       "  box-sizing: border-box;\n",
       "  padding-bottom: 0.4em;\n",
       "  background-color: var(--sklearn-color-background);\n",
       "}\n",
       "\n",
       "#sk-container-id-1 div.sk-container {\n",
       "  /* jupyter's `normalize.less` sets `[hidden] { display: none; }`\n",
       "     but bootstrap.min.css set `[hidden] { display: none !important; }`\n",
       "     so we also need the `!important` here to be able to override the\n",
       "     default hidden behavior on the sphinx rendered scikit-learn.org.\n",
       "     See: https://github.com/scikit-learn/scikit-learn/issues/21755 */\n",
       "  display: inline-block !important;\n",
       "  position: relative;\n",
       "}\n",
       "\n",
       "#sk-container-id-1 div.sk-text-repr-fallback {\n",
       "  display: none;\n",
       "}\n",
       "\n",
       "div.sk-parallel-item,\n",
       "div.sk-serial,\n",
       "div.sk-item {\n",
       "  /* draw centered vertical line to link estimators */\n",
       "  background-image: linear-gradient(var(--sklearn-color-text-on-default-background), var(--sklearn-color-text-on-default-background));\n",
       "  background-size: 2px 100%;\n",
       "  background-repeat: no-repeat;\n",
       "  background-position: center center;\n",
       "}\n",
       "\n",
       "/* Parallel-specific style estimator block */\n",
       "\n",
       "#sk-container-id-1 div.sk-parallel-item::after {\n",
       "  content: \"\";\n",
       "  width: 100%;\n",
       "  border-bottom: 2px solid var(--sklearn-color-text-on-default-background);\n",
       "  flex-grow: 1;\n",
       "}\n",
       "\n",
       "#sk-container-id-1 div.sk-parallel {\n",
       "  display: flex;\n",
       "  align-items: stretch;\n",
       "  justify-content: center;\n",
       "  background-color: var(--sklearn-color-background);\n",
       "  position: relative;\n",
       "}\n",
       "\n",
       "#sk-container-id-1 div.sk-parallel-item {\n",
       "  display: flex;\n",
       "  flex-direction: column;\n",
       "}\n",
       "\n",
       "#sk-container-id-1 div.sk-parallel-item:first-child::after {\n",
       "  align-self: flex-end;\n",
       "  width: 50%;\n",
       "}\n",
       "\n",
       "#sk-container-id-1 div.sk-parallel-item:last-child::after {\n",
       "  align-self: flex-start;\n",
       "  width: 50%;\n",
       "}\n",
       "\n",
       "#sk-container-id-1 div.sk-parallel-item:only-child::after {\n",
       "  width: 0;\n",
       "}\n",
       "\n",
       "/* Serial-specific style estimator block */\n",
       "\n",
       "#sk-container-id-1 div.sk-serial {\n",
       "  display: flex;\n",
       "  flex-direction: column;\n",
       "  align-items: center;\n",
       "  background-color: var(--sklearn-color-background);\n",
       "  padding-right: 1em;\n",
       "  padding-left: 1em;\n",
       "}\n",
       "\n",
       "\n",
       "/* Toggleable style: style used for estimator/Pipeline/ColumnTransformer box that is\n",
       "clickable and can be expanded/collapsed.\n",
       "- Pipeline and ColumnTransformer use this feature and define the default style\n",
       "- Estimators will overwrite some part of the style using the `sk-estimator` class\n",
       "*/\n",
       "\n",
       "/* Pipeline and ColumnTransformer style (default) */\n",
       "\n",
       "#sk-container-id-1 div.sk-toggleable {\n",
       "  /* Default theme specific background. It is overwritten whether we have a\n",
       "  specific estimator or a Pipeline/ColumnTransformer */\n",
       "  background-color: var(--sklearn-color-background);\n",
       "}\n",
       "\n",
       "/* Toggleable label */\n",
       "#sk-container-id-1 label.sk-toggleable__label {\n",
       "  cursor: pointer;\n",
       "  display: block;\n",
       "  width: 100%;\n",
       "  margin-bottom: 0;\n",
       "  padding: 0.5em;\n",
       "  box-sizing: border-box;\n",
       "  text-align: center;\n",
       "}\n",
       "\n",
       "#sk-container-id-1 label.sk-toggleable__label-arrow:before {\n",
       "  /* Arrow on the left of the label */\n",
       "  content: \"▸\";\n",
       "  float: left;\n",
       "  margin-right: 0.25em;\n",
       "  color: var(--sklearn-color-icon);\n",
       "}\n",
       "\n",
       "#sk-container-id-1 label.sk-toggleable__label-arrow:hover:before {\n",
       "  color: var(--sklearn-color-text);\n",
       "}\n",
       "\n",
       "/* Toggleable content - dropdown */\n",
       "\n",
       "#sk-container-id-1 div.sk-toggleable__content {\n",
       "  max-height: 0;\n",
       "  max-width: 0;\n",
       "  overflow: hidden;\n",
       "  text-align: left;\n",
       "  /* unfitted */\n",
       "  background-color: var(--sklearn-color-unfitted-level-0);\n",
       "}\n",
       "\n",
       "#sk-container-id-1 div.sk-toggleable__content.fitted {\n",
       "  /* fitted */\n",
       "  background-color: var(--sklearn-color-fitted-level-0);\n",
       "}\n",
       "\n",
       "#sk-container-id-1 div.sk-toggleable__content pre {\n",
       "  margin: 0.2em;\n",
       "  border-radius: 0.25em;\n",
       "  color: var(--sklearn-color-text);\n",
       "  /* unfitted */\n",
       "  background-color: var(--sklearn-color-unfitted-level-0);\n",
       "}\n",
       "\n",
       "#sk-container-id-1 div.sk-toggleable__content.fitted pre {\n",
       "  /* unfitted */\n",
       "  background-color: var(--sklearn-color-fitted-level-0);\n",
       "}\n",
       "\n",
       "#sk-container-id-1 input.sk-toggleable__control:checked~div.sk-toggleable__content {\n",
       "  /* Expand drop-down */\n",
       "  max-height: 200px;\n",
       "  max-width: 100%;\n",
       "  overflow: auto;\n",
       "}\n",
       "\n",
       "#sk-container-id-1 input.sk-toggleable__control:checked~label.sk-toggleable__label-arrow:before {\n",
       "  content: \"▾\";\n",
       "}\n",
       "\n",
       "/* Pipeline/ColumnTransformer-specific style */\n",
       "\n",
       "#sk-container-id-1 div.sk-label input.sk-toggleable__control:checked~label.sk-toggleable__label {\n",
       "  color: var(--sklearn-color-text);\n",
       "  background-color: var(--sklearn-color-unfitted-level-2);\n",
       "}\n",
       "\n",
       "#sk-container-id-1 div.sk-label.fitted input.sk-toggleable__control:checked~label.sk-toggleable__label {\n",
       "  background-color: var(--sklearn-color-fitted-level-2);\n",
       "}\n",
       "\n",
       "/* Estimator-specific style */\n",
       "\n",
       "/* Colorize estimator box */\n",
       "#sk-container-id-1 div.sk-estimator input.sk-toggleable__control:checked~label.sk-toggleable__label {\n",
       "  /* unfitted */\n",
       "  background-color: var(--sklearn-color-unfitted-level-2);\n",
       "}\n",
       "\n",
       "#sk-container-id-1 div.sk-estimator.fitted input.sk-toggleable__control:checked~label.sk-toggleable__label {\n",
       "  /* fitted */\n",
       "  background-color: var(--sklearn-color-fitted-level-2);\n",
       "}\n",
       "\n",
       "#sk-container-id-1 div.sk-label label.sk-toggleable__label,\n",
       "#sk-container-id-1 div.sk-label label {\n",
       "  /* The background is the default theme color */\n",
       "  color: var(--sklearn-color-text-on-default-background);\n",
       "}\n",
       "\n",
       "/* On hover, darken the color of the background */\n",
       "#sk-container-id-1 div.sk-label:hover label.sk-toggleable__label {\n",
       "  color: var(--sklearn-color-text);\n",
       "  background-color: var(--sklearn-color-unfitted-level-2);\n",
       "}\n",
       "\n",
       "/* Label box, darken color on hover, fitted */\n",
       "#sk-container-id-1 div.sk-label.fitted:hover label.sk-toggleable__label.fitted {\n",
       "  color: var(--sklearn-color-text);\n",
       "  background-color: var(--sklearn-color-fitted-level-2);\n",
       "}\n",
       "\n",
       "/* Estimator label */\n",
       "\n",
       "#sk-container-id-1 div.sk-label label {\n",
       "  font-family: monospace;\n",
       "  font-weight: bold;\n",
       "  display: inline-block;\n",
       "  line-height: 1.2em;\n",
       "}\n",
       "\n",
       "#sk-container-id-1 div.sk-label-container {\n",
       "  text-align: center;\n",
       "}\n",
       "\n",
       "/* Estimator-specific */\n",
       "#sk-container-id-1 div.sk-estimator {\n",
       "  font-family: monospace;\n",
       "  border: 1px dotted var(--sklearn-color-border-box);\n",
       "  border-radius: 0.25em;\n",
       "  box-sizing: border-box;\n",
       "  margin-bottom: 0.5em;\n",
       "  /* unfitted */\n",
       "  background-color: var(--sklearn-color-unfitted-level-0);\n",
       "}\n",
       "\n",
       "#sk-container-id-1 div.sk-estimator.fitted {\n",
       "  /* fitted */\n",
       "  background-color: var(--sklearn-color-fitted-level-0);\n",
       "}\n",
       "\n",
       "/* on hover */\n",
       "#sk-container-id-1 div.sk-estimator:hover {\n",
       "  /* unfitted */\n",
       "  background-color: var(--sklearn-color-unfitted-level-2);\n",
       "}\n",
       "\n",
       "#sk-container-id-1 div.sk-estimator.fitted:hover {\n",
       "  /* fitted */\n",
       "  background-color: var(--sklearn-color-fitted-level-2);\n",
       "}\n",
       "\n",
       "/* Specification for estimator info (e.g. \"i\" and \"?\") */\n",
       "\n",
       "/* Common style for \"i\" and \"?\" */\n",
       "\n",
       ".sk-estimator-doc-link,\n",
       "a:link.sk-estimator-doc-link,\n",
       "a:visited.sk-estimator-doc-link {\n",
       "  float: right;\n",
       "  font-size: smaller;\n",
       "  line-height: 1em;\n",
       "  font-family: monospace;\n",
       "  background-color: var(--sklearn-color-background);\n",
       "  border-radius: 1em;\n",
       "  height: 1em;\n",
       "  width: 1em;\n",
       "  text-decoration: none !important;\n",
       "  margin-left: 1ex;\n",
       "  /* unfitted */\n",
       "  border: var(--sklearn-color-unfitted-level-1) 1pt solid;\n",
       "  color: var(--sklearn-color-unfitted-level-1);\n",
       "}\n",
       "\n",
       ".sk-estimator-doc-link.fitted,\n",
       "a:link.sk-estimator-doc-link.fitted,\n",
       "a:visited.sk-estimator-doc-link.fitted {\n",
       "  /* fitted */\n",
       "  border: var(--sklearn-color-fitted-level-1) 1pt solid;\n",
       "  color: var(--sklearn-color-fitted-level-1);\n",
       "}\n",
       "\n",
       "/* On hover */\n",
       "div.sk-estimator:hover .sk-estimator-doc-link:hover,\n",
       ".sk-estimator-doc-link:hover,\n",
       "div.sk-label-container:hover .sk-estimator-doc-link:hover,\n",
       ".sk-estimator-doc-link:hover {\n",
       "  /* unfitted */\n",
       "  background-color: var(--sklearn-color-unfitted-level-3);\n",
       "  color: var(--sklearn-color-background);\n",
       "  text-decoration: none;\n",
       "}\n",
       "\n",
       "div.sk-estimator.fitted:hover .sk-estimator-doc-link.fitted:hover,\n",
       ".sk-estimator-doc-link.fitted:hover,\n",
       "div.sk-label-container:hover .sk-estimator-doc-link.fitted:hover,\n",
       ".sk-estimator-doc-link.fitted:hover {\n",
       "  /* fitted */\n",
       "  background-color: var(--sklearn-color-fitted-level-3);\n",
       "  color: var(--sklearn-color-background);\n",
       "  text-decoration: none;\n",
       "}\n",
       "\n",
       "/* Span, style for the box shown on hovering the info icon */\n",
       ".sk-estimator-doc-link span {\n",
       "  display: none;\n",
       "  z-index: 9999;\n",
       "  position: relative;\n",
       "  font-weight: normal;\n",
       "  right: .2ex;\n",
       "  padding: .5ex;\n",
       "  margin: .5ex;\n",
       "  width: min-content;\n",
       "  min-width: 20ex;\n",
       "  max-width: 50ex;\n",
       "  color: var(--sklearn-color-text);\n",
       "  box-shadow: 2pt 2pt 4pt #999;\n",
       "  /* unfitted */\n",
       "  background: var(--sklearn-color-unfitted-level-0);\n",
       "  border: .5pt solid var(--sklearn-color-unfitted-level-3);\n",
       "}\n",
       "\n",
       ".sk-estimator-doc-link.fitted span {\n",
       "  /* fitted */\n",
       "  background: var(--sklearn-color-fitted-level-0);\n",
       "  border: var(--sklearn-color-fitted-level-3);\n",
       "}\n",
       "\n",
       ".sk-estimator-doc-link:hover span {\n",
       "  display: block;\n",
       "}\n",
       "\n",
       "/* \"?\"-specific style due to the `<a>` HTML tag */\n",
       "\n",
       "#sk-container-id-1 a.estimator_doc_link {\n",
       "  float: right;\n",
       "  font-size: 1rem;\n",
       "  line-height: 1em;\n",
       "  font-family: monospace;\n",
       "  background-color: var(--sklearn-color-background);\n",
       "  border-radius: 1rem;\n",
       "  height: 1rem;\n",
       "  width: 1rem;\n",
       "  text-decoration: none;\n",
       "  /* unfitted */\n",
       "  color: var(--sklearn-color-unfitted-level-1);\n",
       "  border: var(--sklearn-color-unfitted-level-1) 1pt solid;\n",
       "}\n",
       "\n",
       "#sk-container-id-1 a.estimator_doc_link.fitted {\n",
       "  /* fitted */\n",
       "  border: var(--sklearn-color-fitted-level-1) 1pt solid;\n",
       "  color: var(--sklearn-color-fitted-level-1);\n",
       "}\n",
       "\n",
       "/* On hover */\n",
       "#sk-container-id-1 a.estimator_doc_link:hover {\n",
       "  /* unfitted */\n",
       "  background-color: var(--sklearn-color-unfitted-level-3);\n",
       "  color: var(--sklearn-color-background);\n",
       "  text-decoration: none;\n",
       "}\n",
       "\n",
       "#sk-container-id-1 a.estimator_doc_link.fitted:hover {\n",
       "  /* fitted */\n",
       "  background-color: var(--sklearn-color-fitted-level-3);\n",
       "}\n",
       "</style><div id=\"sk-container-id-1\" class=\"sk-top-container\"><div class=\"sk-text-repr-fallback\"><pre>Pipeline(steps=[(&#x27;step1&#x27;,\n",
       "                 ColumnTransformer(remainder=&#x27;passthrough&#x27;,\n",
       "                                   transformers=[(&#x27;encode&#x27;,\n",
       "                                                  OneHotEncoder(categories=[array([&#x27;Apple&#x27;, &#x27;HP&#x27;, &#x27;Acer&#x27;, &#x27;Asus&#x27;, &#x27;Dell&#x27;, &#x27;Lenovo&#x27;, &#x27;Other&#x27;, &#x27;MSI&#x27;,\n",
       "       &#x27;Toshiba&#x27;], dtype=object),\n",
       "                                                                            array([&#x27;Ultrabook&#x27;, &#x27;Notebook&#x27;, &#x27;Netbook&#x27;, &#x27;Gaming&#x27;, &#x27;2 in 1 Convertible&#x27;,\n",
       "       &#x27;Workstation&#x27;], dtype=object),\n",
       "                                                                            array([&#x27;Intel Core i5&#x27;, &#x27;Intel Core i7&#x27;, &#x27;AMD&#x27;, &#x27;Intel C...\n",
       "       &#x27;Other Intel Processor&#x27;], dtype=object),\n",
       "                                                                            array([&#x27;Mac&#x27;, &#x27;Other&#x27;, &#x27;Windows&#x27;, &#x27;Linux&#x27;], dtype=object),\n",
       "                                                                            array([&#x27;Intel&#x27;, &#x27;AMD&#x27;, &#x27;Nvidia&#x27;], dtype=object)],\n",
       "                                                                drop=&#x27;first&#x27;,\n",
       "                                                                handle_unknown=&#x27;ignore&#x27;),\n",
       "                                                  [0, 1, 2, 4, 11])])),\n",
       "                (&#x27;step2&#x27;,\n",
       "                 ColumnTransformer(transformers=[(&#x27;scale&#x27;, StandardScaler(),\n",
       "                                                  slice(0, 30, None))])),\n",
       "                (&#x27;step3&#x27;,\n",
       "                 GradientBoostingRegressor(min_samples_leaf=2,\n",
       "                                           min_samples_split=5,\n",
       "                                           n_estimators=500))])</pre><b>In a Jupyter environment, please rerun this cell to show the HTML representation or trust the notebook. <br />On GitHub, the HTML representation is unable to render, please try loading this page with nbviewer.org.</b></div><div class=\"sk-container\" hidden><div class=\"sk-item sk-dashed-wrapped\"><div class=\"sk-label-container\"><div class=\"sk-label fitted sk-toggleable\"><input class=\"sk-toggleable__control sk-hidden--visually\" id=\"sk-estimator-id-1\" type=\"checkbox\" ><label for=\"sk-estimator-id-1\" class=\"sk-toggleable__label fitted sk-toggleable__label-arrow fitted\">&nbsp;&nbsp;Pipeline<a class=\"sk-estimator-doc-link fitted\" rel=\"noreferrer\" target=\"_blank\" href=\"https://scikit-learn.org/1.4/modules/generated/sklearn.pipeline.Pipeline.html\">?<span>Documentation for Pipeline</span></a><span class=\"sk-estimator-doc-link fitted\">i<span>Fitted</span></span></label><div class=\"sk-toggleable__content fitted\"><pre>Pipeline(steps=[(&#x27;step1&#x27;,\n",
       "                 ColumnTransformer(remainder=&#x27;passthrough&#x27;,\n",
       "                                   transformers=[(&#x27;encode&#x27;,\n",
       "                                                  OneHotEncoder(categories=[array([&#x27;Apple&#x27;, &#x27;HP&#x27;, &#x27;Acer&#x27;, &#x27;Asus&#x27;, &#x27;Dell&#x27;, &#x27;Lenovo&#x27;, &#x27;Other&#x27;, &#x27;MSI&#x27;,\n",
       "       &#x27;Toshiba&#x27;], dtype=object),\n",
       "                                                                            array([&#x27;Ultrabook&#x27;, &#x27;Notebook&#x27;, &#x27;Netbook&#x27;, &#x27;Gaming&#x27;, &#x27;2 in 1 Convertible&#x27;,\n",
       "       &#x27;Workstation&#x27;], dtype=object),\n",
       "                                                                            array([&#x27;Intel Core i5&#x27;, &#x27;Intel Core i7&#x27;, &#x27;AMD&#x27;, &#x27;Intel C...\n",
       "       &#x27;Other Intel Processor&#x27;], dtype=object),\n",
       "                                                                            array([&#x27;Mac&#x27;, &#x27;Other&#x27;, &#x27;Windows&#x27;, &#x27;Linux&#x27;], dtype=object),\n",
       "                                                                            array([&#x27;Intel&#x27;, &#x27;AMD&#x27;, &#x27;Nvidia&#x27;], dtype=object)],\n",
       "                                                                drop=&#x27;first&#x27;,\n",
       "                                                                handle_unknown=&#x27;ignore&#x27;),\n",
       "                                                  [0, 1, 2, 4, 11])])),\n",
       "                (&#x27;step2&#x27;,\n",
       "                 ColumnTransformer(transformers=[(&#x27;scale&#x27;, StandardScaler(),\n",
       "                                                  slice(0, 30, None))])),\n",
       "                (&#x27;step3&#x27;,\n",
       "                 GradientBoostingRegressor(min_samples_leaf=2,\n",
       "                                           min_samples_split=5,\n",
       "                                           n_estimators=500))])</pre></div> </div></div><div class=\"sk-serial\"><div class=\"sk-item sk-dashed-wrapped\"><div class=\"sk-label-container\"><div class=\"sk-label fitted sk-toggleable\"><input class=\"sk-toggleable__control sk-hidden--visually\" id=\"sk-estimator-id-2\" type=\"checkbox\" ><label for=\"sk-estimator-id-2\" class=\"sk-toggleable__label fitted sk-toggleable__label-arrow fitted\">&nbsp;step1: ColumnTransformer<a class=\"sk-estimator-doc-link fitted\" rel=\"noreferrer\" target=\"_blank\" href=\"https://scikit-learn.org/1.4/modules/generated/sklearn.compose.ColumnTransformer.html\">?<span>Documentation for step1: ColumnTransformer</span></a></label><div class=\"sk-toggleable__content fitted\"><pre>ColumnTransformer(remainder=&#x27;passthrough&#x27;,\n",
       "                  transformers=[(&#x27;encode&#x27;,\n",
       "                                 OneHotEncoder(categories=[array([&#x27;Apple&#x27;, &#x27;HP&#x27;, &#x27;Acer&#x27;, &#x27;Asus&#x27;, &#x27;Dell&#x27;, &#x27;Lenovo&#x27;, &#x27;Other&#x27;, &#x27;MSI&#x27;,\n",
       "       &#x27;Toshiba&#x27;], dtype=object),\n",
       "                                                           array([&#x27;Ultrabook&#x27;, &#x27;Notebook&#x27;, &#x27;Netbook&#x27;, &#x27;Gaming&#x27;, &#x27;2 in 1 Convertible&#x27;,\n",
       "       &#x27;Workstation&#x27;], dtype=object),\n",
       "                                                           array([&#x27;Intel Core i5&#x27;, &#x27;Intel Core i7&#x27;, &#x27;AMD&#x27;, &#x27;Intel Core i3&#x27;,\n",
       "       &#x27;Other Intel Processor&#x27;], dtype=object),\n",
       "                                                           array([&#x27;Mac&#x27;, &#x27;Other&#x27;, &#x27;Windows&#x27;, &#x27;Linux&#x27;], dtype=object),\n",
       "                                                           array([&#x27;Intel&#x27;, &#x27;AMD&#x27;, &#x27;Nvidia&#x27;], dtype=object)],\n",
       "                                               drop=&#x27;first&#x27;,\n",
       "                                               handle_unknown=&#x27;ignore&#x27;),\n",
       "                                 [0, 1, 2, 4, 11])])</pre></div> </div></div><div class=\"sk-parallel\"><div class=\"sk-parallel-item\"><div class=\"sk-item\"><div class=\"sk-label-container\"><div class=\"sk-label fitted sk-toggleable\"><input class=\"sk-toggleable__control sk-hidden--visually\" id=\"sk-estimator-id-3\" type=\"checkbox\" ><label for=\"sk-estimator-id-3\" class=\"sk-toggleable__label fitted sk-toggleable__label-arrow fitted\">encode</label><div class=\"sk-toggleable__content fitted\"><pre>[0, 1, 2, 4, 11]</pre></div> </div></div><div class=\"sk-serial\"><div class=\"sk-item\"><div class=\"sk-estimator fitted sk-toggleable\"><input class=\"sk-toggleable__control sk-hidden--visually\" id=\"sk-estimator-id-4\" type=\"checkbox\" ><label for=\"sk-estimator-id-4\" class=\"sk-toggleable__label fitted sk-toggleable__label-arrow fitted\">&nbsp;OneHotEncoder<a class=\"sk-estimator-doc-link fitted\" rel=\"noreferrer\" target=\"_blank\" href=\"https://scikit-learn.org/1.4/modules/generated/sklearn.preprocessing.OneHotEncoder.html\">?<span>Documentation for OneHotEncoder</span></a></label><div class=\"sk-toggleable__content fitted\"><pre>OneHotEncoder(categories=[array([&#x27;Apple&#x27;, &#x27;HP&#x27;, &#x27;Acer&#x27;, &#x27;Asus&#x27;, &#x27;Dell&#x27;, &#x27;Lenovo&#x27;, &#x27;Other&#x27;, &#x27;MSI&#x27;,\n",
       "       &#x27;Toshiba&#x27;], dtype=object),\n",
       "                          array([&#x27;Ultrabook&#x27;, &#x27;Notebook&#x27;, &#x27;Netbook&#x27;, &#x27;Gaming&#x27;, &#x27;2 in 1 Convertible&#x27;,\n",
       "       &#x27;Workstation&#x27;], dtype=object),\n",
       "                          array([&#x27;Intel Core i5&#x27;, &#x27;Intel Core i7&#x27;, &#x27;AMD&#x27;, &#x27;Intel Core i3&#x27;,\n",
       "       &#x27;Other Intel Processor&#x27;], dtype=object),\n",
       "                          array([&#x27;Mac&#x27;, &#x27;Other&#x27;, &#x27;Windows&#x27;, &#x27;Linux&#x27;], dtype=object),\n",
       "                          array([&#x27;Intel&#x27;, &#x27;AMD&#x27;, &#x27;Nvidia&#x27;], dtype=object)],\n",
       "              drop=&#x27;first&#x27;, handle_unknown=&#x27;ignore&#x27;)</pre></div> </div></div></div></div></div><div class=\"sk-parallel-item\"><div class=\"sk-item\"><div class=\"sk-label-container\"><div class=\"sk-label fitted sk-toggleable\"><input class=\"sk-toggleable__control sk-hidden--visually\" id=\"sk-estimator-id-5\" type=\"checkbox\" ><label for=\"sk-estimator-id-5\" class=\"sk-toggleable__label fitted sk-toggleable__label-arrow fitted\">remainder</label><div class=\"sk-toggleable__content fitted\"><pre>[&#x27;Ram&#x27;, &#x27;Weight&#x27;, &#x27;Touchscreen&#x27;, &#x27;Ips&#x27;, &#x27;ppi&#x27;, &#x27;SSD&#x27;, &#x27;HDD&#x27;]</pre></div> </div></div><div class=\"sk-serial\"><div class=\"sk-item\"><div class=\"sk-estimator fitted sk-toggleable\"><input class=\"sk-toggleable__control sk-hidden--visually\" id=\"sk-estimator-id-6\" type=\"checkbox\" ><label for=\"sk-estimator-id-6\" class=\"sk-toggleable__label fitted sk-toggleable__label-arrow fitted\">passthrough</label><div class=\"sk-toggleable__content fitted\"><pre>passthrough</pre></div> </div></div></div></div></div></div></div><div class=\"sk-item sk-dashed-wrapped\"><div class=\"sk-label-container\"><div class=\"sk-label fitted sk-toggleable\"><input class=\"sk-toggleable__control sk-hidden--visually\" id=\"sk-estimator-id-7\" type=\"checkbox\" ><label for=\"sk-estimator-id-7\" class=\"sk-toggleable__label fitted sk-toggleable__label-arrow fitted\">&nbsp;step2: ColumnTransformer<a class=\"sk-estimator-doc-link fitted\" rel=\"noreferrer\" target=\"_blank\" href=\"https://scikit-learn.org/1.4/modules/generated/sklearn.compose.ColumnTransformer.html\">?<span>Documentation for step2: ColumnTransformer</span></a></label><div class=\"sk-toggleable__content fitted\"><pre>ColumnTransformer(transformers=[(&#x27;scale&#x27;, StandardScaler(),\n",
       "                                 slice(0, 30, None))])</pre></div> </div></div><div class=\"sk-parallel\"><div class=\"sk-parallel-item\"><div class=\"sk-item\"><div class=\"sk-label-container\"><div class=\"sk-label fitted sk-toggleable\"><input class=\"sk-toggleable__control sk-hidden--visually\" id=\"sk-estimator-id-8\" type=\"checkbox\" ><label for=\"sk-estimator-id-8\" class=\"sk-toggleable__label fitted sk-toggleable__label-arrow fitted\">scale</label><div class=\"sk-toggleable__content fitted\"><pre>slice(0, 30, None)</pre></div> </div></div><div class=\"sk-serial\"><div class=\"sk-item\"><div class=\"sk-estimator fitted sk-toggleable\"><input class=\"sk-toggleable__control sk-hidden--visually\" id=\"sk-estimator-id-9\" type=\"checkbox\" ><label for=\"sk-estimator-id-9\" class=\"sk-toggleable__label fitted sk-toggleable__label-arrow fitted\">&nbsp;StandardScaler<a class=\"sk-estimator-doc-link fitted\" rel=\"noreferrer\" target=\"_blank\" href=\"https://scikit-learn.org/1.4/modules/generated/sklearn.preprocessing.StandardScaler.html\">?<span>Documentation for StandardScaler</span></a></label><div class=\"sk-toggleable__content fitted\"><pre>StandardScaler()</pre></div> </div></div></div></div></div></div></div><div class=\"sk-item\"><div class=\"sk-estimator fitted sk-toggleable\"><input class=\"sk-toggleable__control sk-hidden--visually\" id=\"sk-estimator-id-10\" type=\"checkbox\" ><label for=\"sk-estimator-id-10\" class=\"sk-toggleable__label fitted sk-toggleable__label-arrow fitted\">&nbsp;GradientBoostingRegressor<a class=\"sk-estimator-doc-link fitted\" rel=\"noreferrer\" target=\"_blank\" href=\"https://scikit-learn.org/1.4/modules/generated/sklearn.ensemble.GradientBoostingRegressor.html\">?<span>Documentation for GradientBoostingRegressor</span></a></label><div class=\"sk-toggleable__content fitted\"><pre>GradientBoostingRegressor(min_samples_leaf=2, min_samples_split=5,\n",
       "                          n_estimators=500)</pre></div> </div></div></div></div></div></div>"
      ],
      "text/plain": [
       "Pipeline(steps=[('step1',\n",
       "                 ColumnTransformer(remainder='passthrough',\n",
       "                                   transformers=[('encode',\n",
       "                                                  OneHotEncoder(categories=[array(['Apple', 'HP', 'Acer', 'Asus', 'Dell', 'Lenovo', 'Other', 'MSI',\n",
       "       'Toshiba'], dtype=object),\n",
       "                                                                            array(['Ultrabook', 'Notebook', 'Netbook', 'Gaming', '2 in 1 Convertible',\n",
       "       'Workstation'], dtype=object),\n",
       "                                                                            array(['Intel Core i5', 'Intel Core i7', 'AMD', 'Intel C...\n",
       "       'Other Intel Processor'], dtype=object),\n",
       "                                                                            array(['Mac', 'Other', 'Windows', 'Linux'], dtype=object),\n",
       "                                                                            array(['Intel', 'AMD', 'Nvidia'], dtype=object)],\n",
       "                                                                drop='first',\n",
       "                                                                handle_unknown='ignore'),\n",
       "                                                  [0, 1, 2, 4, 11])])),\n",
       "                ('step2',\n",
       "                 ColumnTransformer(transformers=[('scale', StandardScaler(),\n",
       "                                                  slice(0, 30, None))])),\n",
       "                ('step3',\n",
       "                 GradientBoostingRegressor(min_samples_leaf=2,\n",
       "                                           min_samples_split=5,\n",
       "                                           n_estimators=500))])"
      ]
     },
     "execution_count": 70,
     "metadata": {},
     "output_type": "execute_result"
    }
   ],
   "source": [
    "pipe.fit(x_train, y_train)"
   ]
  },
  {
   "cell_type": "code",
   "execution_count": 71,
   "id": "92880b5c-6224-4202-bc13-4366b8d3235b",
   "metadata": {},
   "outputs": [
    {
     "name": "stdout",
     "output_type": "stream",
     "text": [
      "R2 score 0.8850754923961366\n"
     ]
    }
   ],
   "source": [
    "y_pred = pipe.predict(x_test)\n",
    "print('R2 score',r2_score(y_test,y_pred))"
   ]
  },
  {
   "cell_type": "code",
   "execution_count": 72,
   "id": "94345456-9e49-486e-81e7-8476c921fe89",
   "metadata": {},
   "outputs": [],
   "source": [
    "# import pickle\n",
    "# with open('pipe_final.pkl', 'wb') as f:\n",
    "#     pickle.dump(pipe, f)"
   ]
  },
  {
   "cell_type": "code",
   "execution_count": 73,
   "id": "81ea40ec-9f53-451d-97c9-dfd4529ece25",
   "metadata": {},
   "outputs": [
    {
     "name": "stderr",
     "output_type": "stream",
     "text": [
      "C:\\Users\\vedan\\AppData\\Local\\Packages\\PythonSoftwareFoundation.Python.3.9_qbz5n2kfra8p0\\LocalCache\\local-packages\\Python39\\site-packages\\sklearn\\base.py:493: UserWarning: X does not have valid feature names, but OneHotEncoder was fitted with feature names\n",
      "  warnings.warn(\n"
     ]
    },
    {
     "data": {
      "text/plain": [
       "(array([11.53373103]), array([102102.35088008]))"
      ]
     },
     "execution_count": 73,
     "metadata": {},
     "output_type": "execute_result"
    }
   ],
   "source": [
    "# pipe.predict(np.array([[\"Lenovo\",\"Notebook\",\"Intel Core i5\",8,\"Windows\",2.3,0,1,141.211998,256,0,'Nvidia']]))\n",
    "a = pipe.predict(np.array([['Apple' ,'Ultrabook','Intel Core i5',8,'Mac',1.37,0,1,1226.983005,'128'\t,'0'\t,'Intel']]))\n",
    "b = np.exp(a)\n",
    "a,b"
   ]
  },
  {
   "cell_type": "code",
   "execution_count": 74,
   "id": "8255a877-5239-4996-ba35-58da78e58918",
   "metadata": {},
   "outputs": [],
   "source": [
    "# with open('pipe_final.pkl', 'rb') as f:\n",
    "#     loaded_model = pickle.load(f)"
   ]
  },
  {
   "cell_type": "code",
   "execution_count": 75,
   "id": "ec964dc4-d9d9-4b40-8979-a1e1f25bdcbf",
   "metadata": {},
   "outputs": [],
   "source": [
    "# sample_data = np.array([[\"Lenovo\", \"Notebook\", \"Intel Core i5\", 8, \"Windows\", 2.3, 0, 1, 141.211998, 256, 0, 'Nvidia']])\n",
    "# prediction = loaded_model.predict(sample_data)\n",
    "# print(prediction)"
   ]
  },
  {
   "cell_type": "code",
   "execution_count": 76,
   "id": "d59883d2-ef7d-492d-8afe-4c87b50a0643",
   "metadata": {},
   "outputs": [],
   "source": [
    "# from sklearn.ensemble import RandomForestRegressor, GradientBoostingRegressor, VotingRegressor\n",
    "# from xgboost import XGBRegressor\n",
    "# from lightgbm import LGBMRegressor\n",
    "\n",
    "# # Define individual models\n",
    "# rf = RandomForestRegressor()\n",
    "# gb = GradientBoostingRegressor()\n",
    "# xgboost = XGBRegressor()\n",
    "# lgbm = LGBMRegressor()\n",
    "\n",
    "# # Define an ensemble model\n",
    "# ensemble = VotingRegressor(estimators=[\n",
    "#     ('rf', rf),\n",
    "#     ('gb', gb),\n",
    "#     ('xgboost', xgboost),\n",
    "#     ('lgbm', lgbm)\n",
    "# ])\n",
    "\n",
    "# # Define pipeline with the ensemble model\n",
    "# pipe_ensemble = Pipeline([\n",
    "#     ('step1', col1),\n",
    "#     ('step2', col2),\n",
    "#     ('step3', ensemble)\n",
    "# ])\n",
    "\n",
    "# # Define parameter grid for the ensemble model\n",
    "# param_grid_ensemble = {\n",
    "#     'step3__xgboost__n_estimators': [100, 200, 300],\n",
    "#     'step3__xgboost__max_depth': [3, 5, 7],\n",
    "#     'step3__rf__n_estimators': [100, 200, 300],\n",
    "#     'step3__rf__max_depth': [None, 10, 20],\n",
    "#     'step3__lgbm__n_estimators': [100, 200, 300],\n",
    "#     'step3__lgbm__max_depth': [3, 5, 7],\n",
    "#     'step3__lgbm__num_leaves': [31, 63, 127],\n",
    "#     'step3__gb__n_estimators': [100, 200, 300],\n",
    "#     'step3__gb__max_depth': [3, 5, 7]\n",
    "# }\n",
    "\n",
    "# # Use RandomizedSearchCV for hyperparameter tuning\n",
    "# from sklearn.model_selection import RandomizedSearchCV\n",
    "\n",
    "# random_search_ensemble = RandomizedSearchCV(pipe_ensemble, param_grid_ensemble, n_iter=50, cv=5, n_jobs=-1, scoring='r2', random_state=42)\n",
    "# random_search_ensemble.fit(x_train, y_train)\n",
    "\n",
    "# # Best parameters\n",
    "# print(\"Best parameters:\", random_search_ensemble.best_params_)\n",
    "\n",
    "# # Evaluate model\n",
    "# best_model_ensemble = random_search_ensemble.best_estimator_\n",
    "# y_pred_ensemble = best_model_ensemble.predict(x_test)\n",
    "# print('R2 score (ensemble):', r2_score(y_test, y_pred_ensemble))\n"
   ]
  },
  {
   "cell_type": "code",
   "execution_count": 77,
   "id": "aab9c015-11c0-48e7-ac3d-a848f7dfa820",
   "metadata": {},
   "outputs": [],
   "source": [
    "# import pickle\n",
    "# with open('ensemble_model.pkl', 'wb') as file:\n",
    "#     pickle.dump(best_model_ensemble, file)"
   ]
  },
  {
   "cell_type": "code",
   "execution_count": 78,
   "id": "85187d42-222b-4319-b79e-b5a348414acc",
   "metadata": {},
   "outputs": [],
   "source": [
    "# with open('ensemble_model.pkl', 'rb') as file:\n",
    "#     loaded_model = pickle.load(file)"
   ]
  },
  {
   "cell_type": "code",
   "execution_count": 79,
   "id": "c2ba5d9d-7896-43ef-837a-45aa4dcf3246",
   "metadata": {},
   "outputs": [],
   "source": [
    "# sample_data = np.array([[\"Lenovo\", \"Notebook\", \"Intel Core i5\", 8, \"Windows\", 2.3, 0, 1, 141.211998, 256, 0, 'Nvidia']])\n",
    "# # prediction = loaded_model.predict(sample_data)\n",
    "# print(prediction, int(np.exp(prediction)))"
   ]
  },
  {
   "cell_type": "code",
   "execution_count": 80,
   "id": "650dfaaa-f4ae-4d0a-926e-50be8a008efa",
   "metadata": {},
   "outputs": [
    {
     "data": {
      "text/html": [
       "<div>\n",
       "<style scoped>\n",
       "    .dataframe tbody tr th:only-of-type {\n",
       "        vertical-align: middle;\n",
       "    }\n",
       "\n",
       "    .dataframe tbody tr th {\n",
       "        vertical-align: top;\n",
       "    }\n",
       "\n",
       "    .dataframe thead th {\n",
       "        text-align: right;\n",
       "    }\n",
       "</style>\n",
       "<table border=\"1\" class=\"dataframe\">\n",
       "  <thead>\n",
       "    <tr style=\"text-align: right;\">\n",
       "      <th></th>\n",
       "      <th>Company</th>\n",
       "      <th>TypeName</th>\n",
       "      <th>Cpu</th>\n",
       "      <th>Ram</th>\n",
       "      <th>OpSys</th>\n",
       "      <th>Weight</th>\n",
       "      <th>Price</th>\n",
       "      <th>Touchscreen</th>\n",
       "      <th>Ips</th>\n",
       "      <th>ppi</th>\n",
       "      <th>SSD</th>\n",
       "      <th>HDD</th>\n",
       "      <th>GPU Brand</th>\n",
       "    </tr>\n",
       "  </thead>\n",
       "  <tbody>\n",
       "    <tr>\n",
       "      <th>0</th>\n",
       "      <td>Apple</td>\n",
       "      <td>Ultrabook</td>\n",
       "      <td>Intel Core i5</td>\n",
       "      <td>8</td>\n",
       "      <td>Mac</td>\n",
       "      <td>1.37</td>\n",
       "      <td>71378.6832</td>\n",
       "      <td>0</td>\n",
       "      <td>1</td>\n",
       "      <td>226.983005</td>\n",
       "      <td>128</td>\n",
       "      <td>0</td>\n",
       "      <td>Intel</td>\n",
       "    </tr>\n",
       "  </tbody>\n",
       "</table>\n",
       "</div>"
      ],
      "text/plain": [
       "  Company   TypeName            Cpu  Ram OpSys  Weight       Price  \\\n",
       "0   Apple  Ultrabook  Intel Core i5    8   Mac    1.37  71378.6832   \n",
       "\n",
       "   Touchscreen  Ips         ppi  SSD HDD GPU Brand  \n",
       "0            0    1  226.983005  128   0     Intel  "
      ]
     },
     "execution_count": 80,
     "metadata": {},
     "output_type": "execute_result"
    }
   ],
   "source": [
    "df.head(1)"
   ]
  },
  {
   "cell_type": "code",
   "execution_count": 81,
   "id": "caa1409b-4922-432c-a4cf-9d33cde3f785",
   "metadata": {},
   "outputs": [
    {
     "data": {
      "text/plain": [
       "array(['Apple', 'HP', 'Acer', 'Asus', 'Dell', 'Lenovo', 'Other', 'MSI',\n",
       "       'Toshiba'], dtype=object)"
      ]
     },
     "execution_count": 81,
     "metadata": {},
     "output_type": "execute_result"
    }
   ],
   "source": [
    "df['Company'].unique()"
   ]
  },
  {
   "cell_type": "code",
   "execution_count": 82,
   "id": "5ffe6756-20fd-4382-beb7-328f0dbcc16e",
   "metadata": {},
   "outputs": [
    {
     "data": {
      "text/plain": [
       "array(['Ultrabook', 'Notebook', 'Netbook', 'Gaming', '2 in 1 Convertible',\n",
       "       'Workstation'], dtype=object)"
      ]
     },
     "execution_count": 82,
     "metadata": {},
     "output_type": "execute_result"
    }
   ],
   "source": [
    "df['TypeName'].unique()"
   ]
  },
  {
   "cell_type": "code",
   "execution_count": 83,
   "id": "37080e0c-3a5f-4302-834f-04ae81904d9b",
   "metadata": {},
   "outputs": [
    {
     "data": {
      "text/plain": [
       "array([ 8, 16,  4,  2, 12,  6, 32, 24, 64])"
      ]
     },
     "execution_count": 83,
     "metadata": {},
     "output_type": "execute_result"
    }
   ],
   "source": [
    "df['Ram'].unique()"
   ]
  },
  {
   "cell_type": "code",
   "execution_count": 84,
   "id": "e2661846-7d0e-42f4-af63-5137c58eb1fb",
   "metadata": {},
   "outputs": [
    {
     "data": {
      "text/plain": [
       "array(['Mac', 'Other', 'Windows', 'Linux'], dtype=object)"
      ]
     },
     "execution_count": 84,
     "metadata": {},
     "output_type": "execute_result"
    }
   ],
   "source": [
    "df['OpSys'].unique()"
   ]
  },
  {
   "cell_type": "code",
   "execution_count": 85,
   "id": "0fff9f72-30d4-4749-b094-bd0432ebb164",
   "metadata": {},
   "outputs": [
    {
     "data": {
      "text/plain": [
       "array([0, 1], dtype=int64)"
      ]
     },
     "execution_count": 85,
     "metadata": {},
     "output_type": "execute_result"
    }
   ],
   "source": [
    "df['Touchscreen'].unique()"
   ]
  },
  {
   "cell_type": "code",
   "execution_count": 86,
   "id": "aa884c31-5c73-45a6-9305-49749f0dd441",
   "metadata": {},
   "outputs": [
    {
     "data": {
      "text/plain": [
       "90.58340172449303"
      ]
     },
     "execution_count": 86,
     "metadata": {},
     "output_type": "execute_result"
    }
   ],
   "source": [
    "df['ppi'].unique().min()"
   ]
  },
  {
   "cell_type": "code",
   "execution_count": 87,
   "id": "053924f5-1bf6-4fd7-972d-526070487afc",
   "metadata": {},
   "outputs": [
    {
     "data": {
      "text/plain": [
       "array([226.98300468, 127.67794013, 141.21199808, 220.53462387,\n",
       "       100.45466986, 157.35051215, 226.41554717, 165.63211805,\n",
       "       135.09421119, 127.33567457, 111.93520356, 276.05353009,\n",
       "        90.58340172, 224.17380908, 200.84255994, 352.46514721,\n",
       "       199.69207064, 119.72321577, 331.2642361 , 316.96506044,\n",
       "       282.42399616, 209.80068286, 106.11306214, 254.67134914,\n",
       "       158.48253022, 117.82653006, 176.23257361, 267.33843603,\n",
       "       169.78089943, 189.90579052, 234.50740003, 125.36742799,\n",
       "       107.98564559, 161.72539084, 146.86047801, 111.14133687,\n",
       "       194.94753718, 234.97676481, 220.84282407])"
      ]
     },
     "execution_count": 87,
     "metadata": {},
     "output_type": "execute_result"
    }
   ],
   "source": [
    "df['ppi'].unique()"
   ]
  },
  {
   "cell_type": "code",
   "execution_count": 88,
   "id": "4d7c3a40-1ec8-4886-a687-85057c0d5ec4",
   "metadata": {},
   "outputs": [
    {
     "data": {
      "text/plain": [
       "array(['128', 0, '256', '512', '32', '64', '1000', '16', '180', '240',\n",
       "       '8'], dtype=object)"
      ]
     },
     "execution_count": 88,
     "metadata": {},
     "output_type": "execute_result"
    }
   ],
   "source": [
    "df['SSD'].unique()"
   ]
  },
  {
   "cell_type": "code",
   "execution_count": 89,
   "id": "697994f2-58e7-45ed-9b66-3470817ac39a",
   "metadata": {},
   "outputs": [
    {
     "data": {
      "text/plain": [
       "array([0, '500', '1000', '2000', '32', '128', '1.0000'], dtype=object)"
      ]
     },
     "execution_count": 89,
     "metadata": {},
     "output_type": "execute_result"
    }
   ],
   "source": [
    "df['HDD'].unique()"
   ]
  },
  {
   "cell_type": "code",
   "execution_count": null,
   "id": "cdfce69b-5992-421f-97a3-d2ab1687a8fe",
   "metadata": {},
   "outputs": [],
   "source": []
  },
  {
   "cell_type": "code",
   "execution_count": 90,
   "id": "d737e73f-e6e0-4721-856c-3102a8db850e",
   "metadata": {},
   "outputs": [
    {
     "data": {
      "text/html": [
       "<div>\n",
       "<style scoped>\n",
       "    .dataframe tbody tr th:only-of-type {\n",
       "        vertical-align: middle;\n",
       "    }\n",
       "\n",
       "    .dataframe tbody tr th {\n",
       "        vertical-align: top;\n",
       "    }\n",
       "\n",
       "    .dataframe thead th {\n",
       "        text-align: right;\n",
       "    }\n",
       "</style>\n",
       "<table border=\"1\" class=\"dataframe\">\n",
       "  <thead>\n",
       "    <tr style=\"text-align: right;\">\n",
       "      <th></th>\n",
       "      <th>Company</th>\n",
       "      <th>TypeName</th>\n",
       "      <th>Cpu</th>\n",
       "      <th>Ram</th>\n",
       "      <th>OpSys</th>\n",
       "      <th>Weight</th>\n",
       "      <th>Price</th>\n",
       "      <th>Touchscreen</th>\n",
       "      <th>Ips</th>\n",
       "      <th>ppi</th>\n",
       "      <th>SSD</th>\n",
       "      <th>HDD</th>\n",
       "      <th>GPU Brand</th>\n",
       "    </tr>\n",
       "  </thead>\n",
       "  <tbody>\n",
       "    <tr>\n",
       "      <th>1075</th>\n",
       "      <td>Lenovo</td>\n",
       "      <td>Notebook</td>\n",
       "      <td>Intel Core i5</td>\n",
       "      <td>8</td>\n",
       "      <td>Windows</td>\n",
       "      <td>3.0</td>\n",
       "      <td>35111.52</td>\n",
       "      <td>0</td>\n",
       "      <td>0</td>\n",
       "      <td>106.113062</td>\n",
       "      <td>0</td>\n",
       "      <td>1.0000</td>\n",
       "      <td>AMD</td>\n",
       "    </tr>\n",
       "  </tbody>\n",
       "</table>\n",
       "</div>"
      ],
      "text/plain": [
       "     Company  TypeName            Cpu  Ram    OpSys  Weight     Price  \\\n",
       "1075  Lenovo  Notebook  Intel Core i5    8  Windows     3.0  35111.52   \n",
       "\n",
       "      Touchscreen  Ips         ppi SSD     HDD GPU Brand  \n",
       "1075            0    0  106.113062   0  1.0000       AMD  "
      ]
     },
     "execution_count": 90,
     "metadata": {},
     "output_type": "execute_result"
    }
   ],
   "source": [
    "df[df['HDD'] == '1.0000']"
   ]
  },
  {
   "cell_type": "code",
   "execution_count": 91,
   "id": "74569b4c-4fa1-4cfa-88c8-d5d67d7dfc7f",
   "metadata": {},
   "outputs": [
    {
     "name": "stdout",
     "output_type": "stream",
     "text": [
      "<class 'pandas.core.frame.DataFrame'>\n",
      "Index: 1273 entries, 0 to 1273\n",
      "Data columns (total 13 columns):\n",
      " #   Column       Non-Null Count  Dtype  \n",
      "---  ------       --------------  -----  \n",
      " 0   Company      1273 non-null   object \n",
      " 1   TypeName     1273 non-null   object \n",
      " 2   Cpu          1273 non-null   object \n",
      " 3   Ram          1273 non-null   int32  \n",
      " 4   OpSys        1273 non-null   object \n",
      " 5   Weight       1273 non-null   float64\n",
      " 6   Price        1273 non-null   float64\n",
      " 7   Touchscreen  1273 non-null   int64  \n",
      " 8   Ips          1273 non-null   int64  \n",
      " 9   ppi          1273 non-null   float64\n",
      " 10  SSD          1273 non-null   object \n",
      " 11  HDD          1273 non-null   object \n",
      " 12  GPU Brand    1273 non-null   object \n",
      "dtypes: float64(3), int32(1), int64(2), object(7)\n",
      "memory usage: 134.3+ KB\n"
     ]
    }
   ],
   "source": [
    "df.info()"
   ]
  },
  {
   "cell_type": "code",
   "execution_count": 92,
   "id": "12bf2ae3-c17a-4d11-abb4-a006421ed5bc",
   "metadata": {},
   "outputs": [
    {
     "data": {
      "text/plain": [
       "array(['Intel', 'AMD', 'Nvidia'], dtype=object)"
      ]
     },
     "execution_count": 92,
     "metadata": {},
     "output_type": "execute_result"
    }
   ],
   "source": [
    "df['GPU Brand'].unique()"
   ]
  },
  {
   "cell_type": "code",
   "execution_count": 93,
   "id": "1de5cb23-9d81-407b-bd02-659eb4f16bc1",
   "metadata": {},
   "outputs": [
    {
     "data": {
      "text/plain": [
       "array(['Intel Core i5', 'Intel Core i7', 'AMD', 'Intel Core i3',\n",
       "       'Other Intel Processor'], dtype=object)"
      ]
     },
     "execution_count": 93,
     "metadata": {},
     "output_type": "execute_result"
    }
   ],
   "source": [
    "df['Cpu'].unique()"
   ]
  }
 ],
 "metadata": {
  "kernelspec": {
   "display_name": "Python 3 (ipykernel)",
   "language": "python",
   "name": "python3"
  },
  "language_info": {
   "codemirror_mode": {
    "name": "ipython",
    "version": 3
   },
   "file_extension": ".py",
   "mimetype": "text/x-python",
   "name": "python",
   "nbconvert_exporter": "python",
   "pygments_lexer": "ipython3",
   "version": "3.9.13"
  }
 },
 "nbformat": 4,
 "nbformat_minor": 5
}
